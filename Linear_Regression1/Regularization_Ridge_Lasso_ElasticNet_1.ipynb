{
 "cells": [
  {
   "cell_type": "markdown",
   "id": "91202cc4",
   "metadata": {},
   "source": [
    "## Regularization\n",
    "To reduce overfitting and underfitting  we have three methods:   \n",
    "        *a. Regularization    \n",
    "        b. Boosting   \n",
    "        c. Bagging*    \n",
    "\n",
    "Let us look at regularization only for now.   \n",
    "\n",
    "\n",
    "**Regularization** : Reduce Overfitting and Variance   \n",
    "\n",
    "3 types of Regularization:   \n",
    "    &nbsp; &nbsp;a. L1:LASSO Regression      \n",
    "    &nbsp; &nbsp;b. L2:Ridge Regression  \n",
    "    &nbsp; &nbsp;c. Combining L1 and L2: Elastic Net   \n",
    "    "
   ]
  },
  {
   "cell_type": "markdown",
   "id": "dd64382f",
   "metadata": {},
   "source": [
    "-- In Least square, we minimize RSS to find $\\beta_{0}$  and  $\\beta{1}$ intercept and slope.    \n",
    "\n",
    "   \n",
    "-- In Ridge Regression   \n",
    "    we minimize $\\sum_{i=1}^{n}(y_i - \\beta_{0} - \\sum_{j=1}^{p}\\beta_{j}x_{ij})^2 + \\lambda\\sum_{j=1}^{p}\\beta_{j}^{2} = RSS + \\lambda\\sum_{j=1}^{p}\\beta_{j}^{2}$    \n",
    "    \n",
    "to find coeffs. 2nd term is called as Ridge penalty.   "
   ]
  },
  {
   "cell_type": "markdown",
   "id": "53cd83f7",
   "metadata": {},
   "source": [
    "-- In Lasso Regression   \n",
    "    we minimize $\\sum_{i=1}^{n}(y_i - \\beta_{0} - \\sum_{j=1}^{p}\\beta_{j}x_{ij})^2 + \\lambda\\sum_{j=1}^{p}|\\beta_{j}| = RSS + \\lambda\\sum_{j=1}^{p}|\\beta_{j}|$      \n",
    "    \n",
    " to find coeffs. 2nd term is called as Lasso penalty."
   ]
  },
  {
   "cell_type": "markdown",
   "id": "570b18cf",
   "metadata": {},
   "source": [
    "-- In Elastic Net Regression   \n",
    "    we minimize $\\sum_{i=1}^{n}(y_i - \\beta_{0} - \\sum_{j=1}^{p}\\beta_{j}x_{ij})^2 + \\lambda_{1}\\sum_{j=1}^{p}\\beta_{j}^{2} + \\lambda_{2}\\sum_{j=1}^{p}|\\beta_{j}| = RSS + \\lambda_{1}\\sum_{j=1}^{p}\\beta_{j}^{2} + \\lambda_{2}\\sum_{j=1}^{p}|\\beta_{j}|$    \n",
    "    \n",
    "Alternatively, we can express it as:   \n",
    "## $\\frac{\\sum_{i=1}^{n}(y_i - x_i^J\\hat{\\beta})^2}{2n} + \\lambda( \\frac{1-\\alpha}{2}\\sum_{j=1}^{m}\\hat{\\beta_j^2} + \\alpha\\sum_{j=1}^{m}|\\hat{\\beta_j}| )$   \n",
    "$\\alpha$ is a weightage for L1 and L2.   "
   ]
  },
  {
   "cell_type": "markdown",
   "id": "b74408de",
   "metadata": {},
   "source": [
    "## Data Setup"
   ]
  },
  {
   "cell_type": "code",
   "execution_count": 1,
   "id": "24765a34",
   "metadata": {},
   "outputs": [],
   "source": [
    "import numpy as np\n",
    "import pandas as pd\n",
    "import matplotlib.pyplot as plt\n",
    "import seaborn as sns"
   ]
  },
  {
   "cell_type": "code",
   "execution_count": 2,
   "id": "4ece2def",
   "metadata": {},
   "outputs": [],
   "source": [
    "df = pd.read_csv('Advertising.csv')"
   ]
  },
  {
   "cell_type": "code",
   "execution_count": 3,
   "id": "c67b62f6",
   "metadata": {},
   "outputs": [],
   "source": [
    "X = df.drop('sales',  axis=1)"
   ]
  },
  {
   "cell_type": "code",
   "execution_count": 4,
   "id": "25f25695",
   "metadata": {},
   "outputs": [],
   "source": [
    "y = df['sales']"
   ]
  },
  {
   "cell_type": "code",
   "execution_count": 5,
   "id": "30d1d626",
   "metadata": {},
   "outputs": [],
   "source": [
    "from sklearn.preprocessing import PolynomialFeatures"
   ]
  },
  {
   "cell_type": "code",
   "execution_count": 6,
   "id": "cf52c566",
   "metadata": {},
   "outputs": [],
   "source": [
    "polynomial_converter = PolynomialFeatures(degree=3, include_bias=False)"
   ]
  },
  {
   "cell_type": "code",
   "execution_count": 7,
   "id": "3e7129b2",
   "metadata": {},
   "outputs": [],
   "source": [
    "poly_features = polynomial_converter.fit_transform(X)"
   ]
  },
  {
   "cell_type": "code",
   "execution_count": 8,
   "id": "3e081243",
   "metadata": {},
   "outputs": [
    {
     "data": {
      "text/plain": [
       "(200, 19)"
      ]
     },
     "execution_count": 8,
     "metadata": {},
     "output_type": "execute_result"
    }
   ],
   "source": [
    "poly_features.shape"
   ]
  },
  {
   "cell_type": "code",
   "execution_count": 9,
   "id": "b561a15b",
   "metadata": {},
   "outputs": [],
   "source": [
    "from sklearn.model_selection import train_test_split"
   ]
  },
  {
   "cell_type": "code",
   "execution_count": 10,
   "id": "6c0dd96d",
   "metadata": {},
   "outputs": [],
   "source": [
    "X_train, X_test, y_train, y_test = train_test_split(poly_features, y, test_size=0.3, random_state=101)"
   ]
  },
  {
   "cell_type": "code",
   "execution_count": 11,
   "id": "601914a6",
   "metadata": {},
   "outputs": [
    {
     "data": {
      "text/plain": [
       "(140, 19)"
      ]
     },
     "execution_count": 11,
     "metadata": {},
     "output_type": "execute_result"
    }
   ],
   "source": [
    "X_train.shape"
   ]
  },
  {
   "cell_type": "code",
   "execution_count": 12,
   "id": "c1c73270",
   "metadata": {},
   "outputs": [],
   "source": [
    "from sklearn.preprocessing import StandardScaler"
   ]
  },
  {
   "cell_type": "code",
   "execution_count": 13,
   "id": "d6bf66c4",
   "metadata": {},
   "outputs": [],
   "source": [
    "#scales values on standardization or normalization\n",
    "scaler = StandardScaler()"
   ]
  },
  {
   "cell_type": "code",
   "execution_count": 14,
   "id": "1f89e0b0",
   "metadata": {},
   "outputs": [
    {
     "data": {
      "text/plain": [
       "StandardScaler()"
      ]
     },
     "execution_count": 14,
     "metadata": {},
     "output_type": "execute_result"
    }
   ],
   "source": [
    "scaler.fit(X_train)"
   ]
  },
  {
   "cell_type": "code",
   "execution_count": 15,
   "id": "de5ca67f",
   "metadata": {},
   "outputs": [],
   "source": [
    "scaled_X_train = scaler.transform(X_train)"
   ]
  },
  {
   "cell_type": "code",
   "execution_count": 16,
   "id": "448bdba4",
   "metadata": {},
   "outputs": [],
   "source": [
    "scaled_X_test = scaler.transform(X_test)"
   ]
  },
  {
   "cell_type": "code",
   "execution_count": 17,
   "id": "70ce3cec",
   "metadata": {},
   "outputs": [
    {
     "data": {
      "text/plain": [
       "array([1.93200000e+02, 1.84000000e+01, 6.57000000e+01, 3.73262400e+04,\n",
       "       3.55488000e+03, 1.26932400e+04, 3.38560000e+02, 1.20888000e+03,\n",
       "       4.31649000e+03, 7.21142957e+06, 6.86802816e+05, 2.45233397e+06,\n",
       "       6.54097920e+04, 2.33555616e+05, 8.33945868e+05, 6.22950400e+03,\n",
       "       2.22433920e+04, 7.94234160e+04, 2.83593393e+05])"
      ]
     },
     "execution_count": 17,
     "metadata": {},
     "output_type": "execute_result"
    }
   ],
   "source": [
    "X_train[0]"
   ]
  },
  {
   "cell_type": "code",
   "execution_count": 18,
   "id": "e0523cca",
   "metadata": {},
   "outputs": [
    {
     "data": {
      "text/plain": [
       "array([ 0.49300171, -0.33994238,  1.61586707,  0.28407363, -0.02568776,\n",
       "        1.49677566, -0.59023161,  0.41659155,  1.6137853 ,  0.08057172,\n",
       "       -0.05392229,  1.01524393, -0.36986163,  0.52457967,  1.48737034,\n",
       "       -0.66096022, -0.16360242,  0.54694754,  1.37075536])"
      ]
     },
     "execution_count": 18,
     "metadata": {},
     "output_type": "execute_result"
    }
   ],
   "source": [
    "scaled_X_train[0]"
   ]
  },
  {
   "cell_type": "markdown",
   "id": "4b2d9ecc",
   "metadata": {},
   "source": [
    "we can see scaled values are small, due to standardization"
   ]
  },
  {
   "cell_type": "markdown",
   "id": "beb3b315",
   "metadata": {},
   "source": [
    "## 1. Ridge Regression"
   ]
  },
  {
   "cell_type": "code",
   "execution_count": 19,
   "id": "1376ecb1",
   "metadata": {},
   "outputs": [],
   "source": [
    "from sklearn.linear_model import Ridge"
   ]
  },
  {
   "cell_type": "code",
   "execution_count": 20,
   "id": "baa86c81",
   "metadata": {},
   "outputs": [],
   "source": [
    "#help(Ridge)"
   ]
  },
  {
   "cell_type": "code",
   "execution_count": 21,
   "id": "9f81bd68",
   "metadata": {},
   "outputs": [],
   "source": [
    "#Here we take alpha=10, but we don't know if it is best value.\n",
    "#here lambda is alpha\n",
    "#So we have to do iterations and cross-validate for best alpha.\n",
    "ridge_model = Ridge(alpha=10)"
   ]
  },
  {
   "cell_type": "code",
   "execution_count": 22,
   "id": "e1a7ce73",
   "metadata": {},
   "outputs": [
    {
     "data": {
      "text/plain": [
       "Ridge(alpha=10)"
      ]
     },
     "execution_count": 22,
     "metadata": {},
     "output_type": "execute_result"
    }
   ],
   "source": [
    "ridge_model.fit(scaled_X_train, y_train)"
   ]
  },
  {
   "cell_type": "code",
   "execution_count": 23,
   "id": "a7e7a43b",
   "metadata": {},
   "outputs": [],
   "source": [
    "test_predictions = ridge_model.predict(scaled_X_test)"
   ]
  },
  {
   "cell_type": "code",
   "execution_count": 24,
   "id": "29bf61bb",
   "metadata": {},
   "outputs": [],
   "source": [
    "from sklearn.metrics import mean_absolute_error, mean_squared_error"
   ]
  },
  {
   "cell_type": "code",
   "execution_count": 25,
   "id": "c86abbc8",
   "metadata": {},
   "outputs": [
    {
     "data": {
      "text/plain": [
       "0.5774404204714175"
      ]
     },
     "execution_count": 25,
     "metadata": {},
     "output_type": "execute_result"
    }
   ],
   "source": [
    "MAE = mean_absolute_error(y_test, test_predictions)\n",
    "MAE"
   ]
  },
  {
   "cell_type": "code",
   "execution_count": 26,
   "id": "fcad2d3a",
   "metadata": {},
   "outputs": [
    {
     "data": {
      "text/plain": [
       "0.8946386461319681"
      ]
     },
     "execution_count": 26,
     "metadata": {},
     "output_type": "execute_result"
    }
   ],
   "source": [
    "RMSE = np.sqrt(mean_squared_error(y_test, test_predictions))\n",
    "RMSE"
   ]
  },
  {
   "cell_type": "markdown",
   "id": "58fe85f5",
   "metadata": {},
   "source": [
    "### To know the best alpha | lamba value"
   ]
  },
  {
   "cell_type": "code",
   "execution_count": 27,
   "id": "a2a2d87e",
   "metadata": {},
   "outputs": [],
   "source": [
    "#To get the best possible value for lambda or alpha, we use RidgeCV\n",
    "#CV=cross validation.\n",
    "from sklearn.linear_model import RidgeCV"
   ]
  },
  {
   "cell_type": "code",
   "execution_count": 28,
   "id": "bd3ff6e1",
   "metadata": {},
   "outputs": [],
   "source": [
    "#Checks for only this alphas (0.1,1.0,10.0)\n",
    "ridge_cv_model = RidgeCV(alphas=(0.1, 1.0, 10.0))"
   ]
  },
  {
   "cell_type": "code",
   "execution_count": 29,
   "id": "432d2fe5",
   "metadata": {},
   "outputs": [
    {
     "data": {
      "text/plain": [
       "RidgeCV(alphas=array([ 0.1,  1. , 10. ]))"
      ]
     },
     "execution_count": 29,
     "metadata": {},
     "output_type": "execute_result"
    }
   ],
   "source": [
    "ridge_cv_model.fit(scaled_X_train, y_train)    #in CV scaled_x_train is further split as train and test, hold."
   ]
  },
  {
   "cell_type": "code",
   "execution_count": 30,
   "id": "41c32e7b",
   "metadata": {},
   "outputs": [
    {
     "data": {
      "text/plain": [
       "0.1"
      ]
     },
     "execution_count": 30,
     "metadata": {},
     "output_type": "execute_result"
    }
   ],
   "source": [
    "# gives the best alpha\n",
    "ridge_cv_model.alpha_"
   ]
  },
  {
   "cell_type": "code",
   "execution_count": 31,
   "id": "284579cd",
   "metadata": {},
   "outputs": [],
   "source": [
    "from sklearn.metrics import SCORERS"
   ]
  },
  {
   "cell_type": "code",
   "execution_count": 32,
   "id": "4c652102",
   "metadata": {},
   "outputs": [
    {
     "data": {
      "text/plain": [
       "dict_keys(['explained_variance', 'r2', 'max_error', 'neg_median_absolute_error', 'neg_mean_absolute_error', 'neg_mean_absolute_percentage_error', 'neg_mean_squared_error', 'neg_mean_squared_log_error', 'neg_root_mean_squared_error', 'neg_mean_poisson_deviance', 'neg_mean_gamma_deviance', 'accuracy', 'top_k_accuracy', 'roc_auc', 'roc_auc_ovr', 'roc_auc_ovo', 'roc_auc_ovr_weighted', 'roc_auc_ovo_weighted', 'balanced_accuracy', 'average_precision', 'neg_log_loss', 'neg_brier_score', 'adjusted_rand_score', 'rand_score', 'homogeneity_score', 'completeness_score', 'v_measure_score', 'mutual_info_score', 'adjusted_mutual_info_score', 'normalized_mutual_info_score', 'fowlkes_mallows_score', 'precision', 'precision_macro', 'precision_micro', 'precision_samples', 'precision_weighted', 'recall', 'recall_macro', 'recall_micro', 'recall_samples', 'recall_weighted', 'f1', 'f1_macro', 'f1_micro', 'f1_samples', 'f1_weighted', 'jaccard', 'jaccard_macro', 'jaccard_micro', 'jaccard_samples', 'jaccard_weighted'])"
      ]
     },
     "execution_count": 32,
     "metadata": {},
     "output_type": "execute_result"
    }
   ],
   "source": [
    "#metrics we can find in scorers\n",
    "SCORERS.keys()"
   ]
  },
  {
   "cell_type": "code",
   "execution_count": 33,
   "id": "6b86788b",
   "metadata": {},
   "outputs": [],
   "source": [
    "# we will put scorer and do the steps again\n",
    "ridge_cv_model = RidgeCV(alphas=(0.1, 1.0, 10.0),scoring= 'neg_mean_absolute_error')"
   ]
  },
  {
   "cell_type": "markdown",
   "id": "81c9fdfd",
   "metadata": {},
   "source": [
    "Chooses best alpha which gives highest negative mean_absolute_error.   \n",
    "One can change the scorer metric to others in order to choose best alpha.   "
   ]
  },
  {
   "cell_type": "code",
   "execution_count": 34,
   "id": "69f84291",
   "metadata": {},
   "outputs": [
    {
     "data": {
      "text/plain": [
       "RidgeCV(alphas=array([ 0.1,  1. , 10. ]), scoring='neg_mean_absolute_error')"
      ]
     },
     "execution_count": 34,
     "metadata": {},
     "output_type": "execute_result"
    }
   ],
   "source": [
    "ridge_cv_model.fit(scaled_X_train, y_train)"
   ]
  },
  {
   "cell_type": "code",
   "execution_count": 35,
   "id": "34e4c791",
   "metadata": {},
   "outputs": [
    {
     "data": {
      "text/plain": [
       "0.1"
      ]
     },
     "execution_count": 35,
     "metadata": {},
     "output_type": "execute_result"
    }
   ],
   "source": [
    "ridge_cv_model.alpha_"
   ]
  },
  {
   "cell_type": "code",
   "execution_count": 36,
   "id": "2c14a9aa",
   "metadata": {},
   "outputs": [],
   "source": [
    "# test predictions, and see\n",
    "test_predictions = ridge_cv_model.predict(scaled_X_test)"
   ]
  },
  {
   "cell_type": "code",
   "execution_count": 37,
   "id": "e837cd0d",
   "metadata": {},
   "outputs": [],
   "source": [
    "from sklearn.metrics import mean_absolute_error, mean_squared_error"
   ]
  },
  {
   "cell_type": "code",
   "execution_count": 38,
   "id": "1747df18",
   "metadata": {},
   "outputs": [
    {
     "data": {
      "text/plain": [
       "0.42737748843414897"
      ]
     },
     "execution_count": 38,
     "metadata": {},
     "output_type": "execute_result"
    }
   ],
   "source": [
    "MAE = mean_absolute_error(y_test, test_predictions)\n",
    "MAE"
   ]
  },
  {
   "cell_type": "code",
   "execution_count": 39,
   "id": "060cf273",
   "metadata": {},
   "outputs": [
    {
     "data": {
      "text/plain": [
       "0.6180719926948917"
      ]
     },
     "execution_count": 39,
     "metadata": {},
     "output_type": "execute_result"
    }
   ],
   "source": [
    "RMSE = np.sqrt(mean_squared_error(y_test, test_predictions))\n",
    "RMSE"
   ]
  },
  {
   "cell_type": "code",
   "execution_count": 40,
   "id": "4691baaa",
   "metadata": {},
   "outputs": [
    {
     "data": {
      "text/plain": [
       "array([ 5.40769392,  0.5885865 ,  0.40390395, -6.18263924,  4.59607939,\n",
       "       -1.18789654, -1.15200458,  0.57837796, -0.1261586 ,  2.5569777 ,\n",
       "       -1.38900471,  0.86059434,  0.72219553, -0.26129256,  0.17870787,\n",
       "        0.44353612, -0.21362436, -0.04622473, -0.06441449])"
      ]
     },
     "execution_count": 40,
     "metadata": {},
     "output_type": "execute_result"
    }
   ],
   "source": [
    "# to know coeffs\n",
    "ridge_cv_model.coef_"
   ]
  },
  {
   "cell_type": "markdown",
   "id": "668ad018",
   "metadata": {},
   "source": [
    "we see none of the coeffs in Ridge are zero.   \n",
    "In Lasso it coeffs can go all the way to zero.  "
   ]
  },
  {
   "cell_type": "markdown",
   "id": "0e3e8d99",
   "metadata": {},
   "source": [
    "--------------------"
   ]
  },
  {
   "cell_type": "markdown",
   "id": "789619bb",
   "metadata": {},
   "source": [
    "## 2. Lasso Regression   \n",
    "    LASSO = Least absolute shrinkage and selecting operator\n",
    " https://scikit-learn.org/stable/modules/generated/sklearn.linear_model.Lasso.html    \n",
    " https://scikit-learn.org/stable/modules/linear_model.html#lasso"
   ]
  },
  {
   "cell_type": "markdown",
   "id": "e6fd80c8",
   "metadata": {},
   "source": [
    "In Lasso coefficients can be forced to be zero if lambda is sufficiently large.   \n",
    "i.e., making few variables not contributing (selecting variables in other words).   "
   ]
  },
  {
   "cell_type": "code",
   "execution_count": 41,
   "id": "0294cba8",
   "metadata": {},
   "outputs": [],
   "source": [
    "# selecting alpha beforehand, we use this ->\n",
    "# from sklearn.linear_model import Lasso\n",
    "# lasso_model = Lasso(alpha=10)\n",
    "# lasso_model.fit(scaled_X_train, y_train)\n",
    "# test_predictions\n",
    "# find error"
   ]
  },
  {
   "cell_type": "markdown",
   "id": "cfb4630a",
   "metadata": {},
   "source": [
    "LassoCV is little different from RidgeCV, check the links. "
   ]
  },
  {
   "cell_type": "code",
   "execution_count": 42,
   "id": "6f6a1006",
   "metadata": {},
   "outputs": [],
   "source": [
    "from sklearn.linear_model import LassoCV"
   ]
  },
  {
   "cell_type": "code",
   "execution_count": 43,
   "id": "a44334e8",
   "metadata": {},
   "outputs": [],
   "source": [
    "lasso_cv_model = LassoCV(eps=.001, n_alphas=100, cv=5)"
   ]
  },
  {
   "cell_type": "code",
   "execution_count": 44,
   "id": "170aec3e",
   "metadata": {},
   "outputs": [
    {
     "name": "stderr",
     "output_type": "stream",
     "text": [
      "C:\\ProgramData\\Anaconda3\\lib\\site-packages\\sklearn\\linear_model\\_coordinate_descent.py:530: ConvergenceWarning: Objective did not converge. You might want to increase the number of iterations. Duality gap: 1.8704406680899979, tolerance: 0.3684261714285714\n",
      "  model = cd_fast.enet_coordinate_descent(\n"
     ]
    },
    {
     "data": {
      "text/plain": [
       "LassoCV(cv=5)"
      ]
     },
     "execution_count": 44,
     "metadata": {},
     "output_type": "execute_result"
    }
   ],
   "source": [
    "lasso_cv_model.fit(scaled_X_train, y_train)"
   ]
  },
  {
   "cell_type": "markdown",
   "id": "84a52b6b",
   "metadata": {},
   "source": [
    "Did not converge warning.  i.e, stochastic search for alpha has not converged."
   ]
  },
  {
   "cell_type": "code",
   "execution_count": 45,
   "id": "086bea95",
   "metadata": {},
   "outputs": [],
   "source": [
    "# we can reduce eps, decrease the widening between alpha_min and alpha_max to converge \n",
    "# eps = alpha_min/alpha_max\n",
    "lasso_cv_model = LassoCV(eps=.1, n_alphas=100, cv=5, max_iter=1000)"
   ]
  },
  {
   "cell_type": "code",
   "execution_count": 46,
   "id": "55edeed1",
   "metadata": {},
   "outputs": [
    {
     "data": {
      "text/plain": [
       "LassoCV(cv=5, eps=0.1)"
      ]
     },
     "execution_count": 46,
     "metadata": {},
     "output_type": "execute_result"
    }
   ],
   "source": [
    "lasso_cv_model.fit(scaled_X_train, y_train)"
   ]
  },
  {
   "cell_type": "code",
   "execution_count": 47,
   "id": "0dbc19a9",
   "metadata": {},
   "outputs": [
    {
     "data": {
      "text/plain": [
       "0.4943070909225828"
      ]
     },
     "execution_count": 47,
     "metadata": {},
     "output_type": "execute_result"
    }
   ],
   "source": [
    "lasso_cv_model.alpha_"
   ]
  },
  {
   "cell_type": "code",
   "execution_count": 48,
   "id": "46b6a690",
   "metadata": {},
   "outputs": [],
   "source": [
    "test_predictions = lasso_cv_model.predict(scaled_X_test)"
   ]
  },
  {
   "cell_type": "code",
   "execution_count": 49,
   "id": "49ab4cba",
   "metadata": {},
   "outputs": [
    {
     "data": {
      "text/plain": [
       "0.6541723161252856"
      ]
     },
     "execution_count": 49,
     "metadata": {},
     "output_type": "execute_result"
    }
   ],
   "source": [
    "MAE = mean_absolute_error(y_test, test_predictions)\n",
    "MAE"
   ]
  },
  {
   "cell_type": "code",
   "execution_count": 50,
   "id": "483848fe",
   "metadata": {},
   "outputs": [
    {
     "data": {
      "text/plain": [
       "1.1308001022762535"
      ]
     },
     "execution_count": 50,
     "metadata": {},
     "output_type": "execute_result"
    }
   ],
   "source": [
    "RMSE = np.sqrt(mean_squared_error(y_test,test_predictions))\n",
    "RMSE"
   ]
  },
  {
   "cell_type": "code",
   "execution_count": 51,
   "id": "b7d04265",
   "metadata": {},
   "outputs": [
    {
     "data": {
      "text/plain": [
       "array([1.002651  , 0.        , 0.        , 0.        , 3.79745279,\n",
       "       0.        , 0.        , 0.        , 0.        , 0.        ,\n",
       "       0.        , 0.        , 0.        , 0.        , 0.        ,\n",
       "       0.        , 0.        , 0.        , 0.        ])"
      ]
     },
     "execution_count": 51,
     "metadata": {},
     "output_type": "execute_result"
    }
   ],
   "source": [
    "lasso_cv_model.coef_"
   ]
  },
  {
   "cell_type": "markdown",
   "id": "1489d2cf",
   "metadata": {},
   "source": [
    "It has made lot of coeffs zero.   \n",
    "Easy to interpret, only two variables here.   \n",
    "Need Domain expertise to say RMSE is acceptable."
   ]
  },
  {
   "cell_type": "code",
   "execution_count": 52,
   "id": "6636dd80",
   "metadata": {},
   "outputs": [],
   "source": [
    "# increase max_iter to 10000, to have convergence. default is 1000.\n",
    "lasso_cv_model = LassoCV(eps=.001, n_alphas=100, cv=5, max_iter=100000)"
   ]
  },
  {
   "cell_type": "code",
   "execution_count": 53,
   "id": "c1fa005d",
   "metadata": {},
   "outputs": [
    {
     "data": {
      "text/plain": [
       "LassoCV(cv=5, max_iter=100000)"
      ]
     },
     "execution_count": 53,
     "metadata": {},
     "output_type": "execute_result"
    }
   ],
   "source": [
    "lasso_cv_model.fit(scaled_X_train, y_train)"
   ]
  },
  {
   "cell_type": "code",
   "execution_count": 54,
   "id": "704a8832",
   "metadata": {},
   "outputs": [
    {
     "data": {
      "text/plain": [
       "0.004943070909225827"
      ]
     },
     "execution_count": 54,
     "metadata": {},
     "output_type": "execute_result"
    }
   ],
   "source": [
    "lasso_cv_model.alpha_"
   ]
  },
  {
   "cell_type": "code",
   "execution_count": 55,
   "id": "8be4418d",
   "metadata": {},
   "outputs": [],
   "source": [
    "test_predictions = lasso_cv_model.predict(scaled_X_test)"
   ]
  },
  {
   "cell_type": "code",
   "execution_count": 56,
   "id": "003abfe6",
   "metadata": {},
   "outputs": [
    {
     "data": {
      "text/plain": [
       "0.4335034618590069"
      ]
     },
     "execution_count": 56,
     "metadata": {},
     "output_type": "execute_result"
    }
   ],
   "source": [
    "MAE = mean_absolute_error(y_test, test_predictions)\n",
    "MAE"
   ]
  },
  {
   "cell_type": "code",
   "execution_count": 57,
   "id": "0dd227e9",
   "metadata": {},
   "outputs": [
    {
     "data": {
      "text/plain": [
       "0.6063140748984026"
      ]
     },
     "execution_count": 57,
     "metadata": {},
     "output_type": "execute_result"
    }
   ],
   "source": [
    "RMSE = np.sqrt(mean_squared_error(y_test,test_predictions))\n",
    "RMSE"
   ]
  },
  {
   "cell_type": "code",
   "execution_count": 58,
   "id": "41f99d8a",
   "metadata": {},
   "outputs": [
    {
     "data": {
      "text/plain": [
       "array([ 4.86023329,  0.12544598,  0.20746872, -4.99250395,  4.38026519,\n",
       "       -0.22977201, -0.        ,  0.07267717, -0.        ,  1.77780246,\n",
       "       -0.69614918, -0.        ,  0.12044132, -0.        , -0.        ,\n",
       "       -0.        ,  0.        ,  0.        , -0.        ])"
      ]
     },
     "execution_count": 58,
     "metadata": {},
     "output_type": "execute_result"
    }
   ],
   "source": [
    "lasso_cv_model.coef_"
   ]
  },
  {
   "cell_type": "markdown",
   "id": "f53210cc",
   "metadata": {},
   "source": [
    "We see model has become complex.   \n",
    "Hard to interpret.   \n",
    "Need to know which method to use to have convergence of alpha.  "
   ]
  },
  {
   "cell_type": "markdown",
   "id": "2bf33d24",
   "metadata": {},
   "source": [
    "## 3. Elastic Net   \n",
    "\n",
    "https://scikit-learn.org/stable/modules/generated/sklearn.linear_model.ElasticNetCV.html"
   ]
  },
  {
   "cell_type": "code",
   "execution_count": 59,
   "id": "b911e668",
   "metadata": {},
   "outputs": [],
   "source": [
    "from sklearn.linear_model import ElasticNetCV"
   ]
  },
  {
   "cell_type": "code",
   "execution_count": 61,
   "id": "50db4ad3",
   "metadata": {},
   "outputs": [],
   "source": [
    "elastic_model = ElasticNetCV(l1_ratio=[.1, .5, .7, .9, .95, .99, 1], eps=0.001, n_alphas=100, max_iter=1000000)"
   ]
  },
  {
   "cell_type": "code",
   "execution_count": 62,
   "id": "e376e045",
   "metadata": {},
   "outputs": [
    {
     "data": {
      "text/plain": [
       "ElasticNetCV(l1_ratio=[0.1, 0.5, 0.7, 0.9, 0.95, 0.99, 1], max_iter=1000000)"
      ]
     },
     "execution_count": 62,
     "metadata": {},
     "output_type": "execute_result"
    }
   ],
   "source": [
    "elastic_model.fit(scaled_X_train, y_train)"
   ]
  },
  {
   "cell_type": "code",
   "execution_count": 65,
   "id": "da114fb6",
   "metadata": {},
   "outputs": [
    {
     "data": {
      "text/plain": [
       "[0.1, 0.5, 0.7, 0.9, 0.95, 0.99, 1]"
      ]
     },
     "execution_count": 65,
     "metadata": {},
     "output_type": "execute_result"
    }
   ],
   "source": [
    "elastic_model.l1_ratio"
   ]
  },
  {
   "cell_type": "code",
   "execution_count": 66,
   "id": "472075f5",
   "metadata": {},
   "outputs": [
    {
     "data": {
      "text/plain": [
       "1.0"
      ]
     },
     "execution_count": 66,
     "metadata": {},
     "output_type": "execute_result"
    }
   ],
   "source": [
    "# best l1_ratio\n",
    "elastic_model.l1_ratio_"
   ]
  },
  {
   "cell_type": "markdown",
   "id": "524fd5ea",
   "metadata": {},
   "source": [
    "it chooses only lasso and completely discards ridge. May be due to the simple dataset we have taken."
   ]
  },
  {
   "cell_type": "code",
   "execution_count": 67,
   "id": "b6eed8b5",
   "metadata": {},
   "outputs": [
    {
     "data": {
      "text/plain": [
       "0.004943070909225827"
      ]
     },
     "execution_count": 67,
     "metadata": {},
     "output_type": "execute_result"
    }
   ],
   "source": [
    "elastic_model.alpha_"
   ]
  },
  {
   "cell_type": "markdown",
   "id": "fcbeef26",
   "metadata": {},
   "source": [
    "this alpha is the same we got in Lasso."
   ]
  },
  {
   "cell_type": "code",
   "execution_count": 68,
   "id": "3065d150",
   "metadata": {},
   "outputs": [
    {
     "data": {
      "text/plain": [
       "0.004943070909225827"
      ]
     },
     "execution_count": 68,
     "metadata": {},
     "output_type": "execute_result"
    }
   ],
   "source": [
    "lasso_cv_model.alpha_"
   ]
  },
  {
   "cell_type": "code",
   "execution_count": 69,
   "id": "89a32c46",
   "metadata": {},
   "outputs": [],
   "source": [
    "test_predictions = elastic_model.predict(scaled_X_test)"
   ]
  },
  {
   "cell_type": "code",
   "execution_count": 70,
   "id": "f8195193",
   "metadata": {},
   "outputs": [
    {
     "data": {
      "text/plain": [
       "0.4335034618590069"
      ]
     },
     "execution_count": 70,
     "metadata": {},
     "output_type": "execute_result"
    }
   ],
   "source": [
    "MAE = mean_absolute_error(test_predictions, y_test)\n",
    "MAE"
   ]
  },
  {
   "cell_type": "code",
   "execution_count": 71,
   "id": "daeb44ae",
   "metadata": {},
   "outputs": [
    {
     "data": {
      "text/plain": [
       "0.6063140748984026"
      ]
     },
     "execution_count": 71,
     "metadata": {},
     "output_type": "execute_result"
    }
   ],
   "source": [
    "RMSE = np.sqrt(mean_squared_error(test_predictions, y_test))\n",
    "RMSE"
   ]
  },
  {
   "cell_type": "markdown",
   "id": "0326d1ee",
   "metadata": {},
   "source": [
    "---------------"
   ]
  },
  {
   "cell_type": "code",
   "execution_count": null,
   "id": "d811e85c",
   "metadata": {},
   "outputs": [],
   "source": []
  }
 ],
 "metadata": {
  "kernelspec": {
   "display_name": "Python 3 (ipykernel)",
   "language": "python",
   "name": "python3"
  },
  "language_info": {
   "codemirror_mode": {
    "name": "ipython",
    "version": 3
   },
   "file_extension": ".py",
   "mimetype": "text/x-python",
   "name": "python",
   "nbconvert_exporter": "python",
   "pygments_lexer": "ipython3",
   "version": "3.9.7"
  }
 },
 "nbformat": 4,
 "nbformat_minor": 5
}
