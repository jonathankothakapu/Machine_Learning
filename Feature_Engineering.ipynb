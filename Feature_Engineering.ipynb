{
 "cells": [
  {
   "cell_type": "markdown",
   "id": "316da6e6",
   "metadata": {},
   "source": [
    "# Feature Engineering\n",
    "3 general approaches   \n",
    "   1. Extracting information   \n",
    "   Example: 1989-11-05 08:33:54   \n",
    "   Extract: year: 1989, month:11, day:05, hour min sec\n",
    "   \n",
    "   \n",
    "   2. Combining information    \n",
    "   Example: combine weekend and evening time and define it as 'Nightlife'.\n",
    "   \n",
    "   \n",
    "   3. Transforming information    \n",
    "   generally for categorical data.   \n",
    "     \n",
    "    a. integer encoding   \n",
    "     USA-1, MEX-2, CHN-3   etc   \n",
    "     but machine can think it as ordinal i.e MEX is two times USA (which is absurd)  \n",
    "     ordinal example can be: Spice level                 \n",
    "         _Mild:1, Hot:2, Fire:3_     \n",
    "         this cannot be absurd, correctly ordinal.   \n",
    "     i.e Fire is 3 times Mild.\n",
    "     \n",
    "     \n",
    "     b. one-hot encoding (Dummy variables)   \n",
    "     Example is\n",
    " | Country |   \n",
    "     | --- |  \n",
    "     | USA |\n",
    "     | CHN |\n",
    "     | USA |\n",
    "     | MEX |   \n",
    "     \n",
    "     Into\n",
    "     \n",
    "   | USA | CHN | MEX |\n",
    "        | --- | --- | --- |\n",
    "        | 1 | 0 | 0 |\n",
    "        | 0 | 1 | 0 |\n",
    "        | 1 | 0 | 0 |\n",
    "        | 0 | 0 | 1 |"
   ]
  },
  {
   "cell_type": "markdown",
   "id": "c59fdaf1",
   "metadata": {},
   "source": [
    "..Dummy variable traps."
   ]
  },
  {
   "cell_type": "markdown",
   "id": "ca071b94",
   "metadata": {},
   "source": [
    "## Dealing with outliers"
   ]
  },
  {
   "cell_type": "markdown",
   "id": "332b1aed",
   "metadata": {},
   "source": [
    "We need domain knowledge to consider which points lie in outlier zone.   \n",
    "Use Quartile range??   \n",
    "Normal Distribution??   \n",
    "??"
   ]
  },
  {
   "cell_type": "code",
   "execution_count": 1,
   "id": "4f55bf6a",
   "metadata": {},
   "outputs": [],
   "source": [
    "import numpy as np\n",
    "import pandas as pd\n",
    "import matplotlib.pyplot as plt\n",
    "import seaborn as sns"
   ]
  },
  {
   "cell_type": "markdown",
   "id": "6c805311",
   "metadata": {},
   "source": [
    "### Generating Data"
   ]
  },
  {
   "cell_type": "code",
   "execution_count": 2,
   "id": "505762ae",
   "metadata": {},
   "outputs": [],
   "source": [
    "# creating a sampleof ages around a mean, std, no.of samples\n",
    "def create_age(mu=50,sigma=13, num_sample=100, seed=42):\n",
    "    \n",
    "    np.random.seed(seed)\n",
    "    \n",
    "    sample_ages = np.random.normal(loc=mu, scale=sigma, size=num_sample)\n",
    "    sample_ages = np.round(sample_ages,0)\n",
    "    \n",
    "    return sample_ages\n",
    "    "
   ]
  },
  {
   "cell_type": "code",
   "execution_count": 3,
   "id": "e37184c2",
   "metadata": {},
   "outputs": [
    {
     "data": {
      "text/plain": [
       "array([56., 48., 58., 70., 47., 47., 71., 60., 44., 57., 44., 44., 53.,\n",
       "       25., 28., 43., 37., 54., 38., 32., 69., 47., 51., 31., 43., 51.,\n",
       "       35., 55., 42., 46., 42., 74., 50., 36., 61., 34., 53., 25., 33.,\n",
       "       53., 60., 52., 48., 46., 31., 41., 44., 64., 54., 27., 54., 45.,\n",
       "       41., 58., 63., 62., 39., 46., 54., 63., 44., 48., 36., 34., 61.,\n",
       "       68., 49., 63., 55., 42., 55., 70., 50., 70., 16., 61., 51., 46.,\n",
       "       51., 24., 47., 55., 69., 43., 39., 43., 62., 54., 43., 57., 51.,\n",
       "       63., 41., 46., 45., 31., 54., 53., 50., 47.])"
      ]
     },
     "execution_count": 3,
     "metadata": {},
     "output_type": "execute_result"
    }
   ],
   "source": [
    "sample = create_age()\n",
    "sample"
   ]
  },
  {
   "cell_type": "code",
   "execution_count": 4,
   "id": "3314650c",
   "metadata": {},
   "outputs": [
    {
     "data": {
      "text/plain": [
       "<seaborn.axisgrid.FacetGrid at 0x176ff34a160>"
      ]
     },
     "execution_count": 4,
     "metadata": {},
     "output_type": "execute_result"
    },
    {
     "data": {
      "image/png": "[encoded data removed]",
      "text/plain": [
       "<Figure size 360x360 with 1 Axes>"
      ]
     },
     "metadata": {
      "needs_background": "light"
     },
     "output_type": "display_data"
    }
   ],
   "source": [
    "sns.displot(sample, bins=20)"
   ]
  },
  {
   "cell_type": "code",
   "execution_count": 5,
   "id": "7ebf4a4e",
   "metadata": {},
   "outputs": [
    {
     "data": {
      "text/plain": [
       "<AxesSubplot:>"
      ]
     },
     "execution_count": 5,
     "metadata": {},
     "output_type": "execute_result"
    },
    {
     "data": {
      "image/png": "[encoded data removed]",
      "text/plain": [
       "<Figure size 432x288 with 1 Axes>"
      ]
     },
     "metadata": {
      "needs_background": "light"
     },
     "output_type": "display_data"
    }
   ],
   "source": [
    "sns.boxplot(x=sample)"
   ]
  },
  {
   "cell_type": "markdown",
   "id": "28d9b7aa",
   "metadata": {},
   "source": [
    "If we want grab that outlier (Left dot in above picture). We can use..   "
   ]
  },
  {
   "cell_type": "code",
   "execution_count": 6,
   "id": "865b8551",
   "metadata": {},
   "outputs": [
    {
     "data": {
      "text/plain": [
       "0    56.0\n",
       "1    48.0\n",
       "2    58.0\n",
       "3    70.0\n",
       "4    47.0\n",
       "dtype: float64"
      ]
     },
     "execution_count": 6,
     "metadata": {},
     "output_type": "execute_result"
    }
   ],
   "source": [
    "ser = pd.Series(sample)\n",
    "ser.head()"
   ]
  },
  {
   "cell_type": "code",
   "execution_count": 7,
   "id": "e1cacbe0",
   "metadata": {},
   "outputs": [
    {
     "data": {
      "text/plain": [
       "count    100.00000\n",
       "mean      48.66000\n",
       "std       11.82039\n",
       "min       16.00000\n",
       "25%       42.00000\n",
       "50%       48.00000\n",
       "75%       55.25000\n",
       "max       74.00000\n",
       "dtype: float64"
      ]
     },
     "execution_count": 7,
     "metadata": {},
     "output_type": "execute_result"
    }
   ],
   "source": [
    "ser.describe()"
   ]
  },
  {
   "cell_type": "code",
   "execution_count": 8,
   "id": "eda2214e",
   "metadata": {},
   "outputs": [],
   "source": [
    "IQR = 55.25 - 42.00  #Inter-quartile range (75%-25%)\n",
    "lower_limit = 42.00 - 1.5*IQR"
   ]
  },
  {
   "cell_type": "code",
   "execution_count": 9,
   "id": "f7b57168",
   "metadata": {},
   "outputs": [
    {
     "data": {
      "text/plain": [
       "22.125"
      ]
     },
     "execution_count": 9,
     "metadata": {},
     "output_type": "execute_result"
    }
   ],
   "source": [
    "lower_limit"
   ]
  },
  {
   "cell_type": "code",
   "execution_count": 10,
   "id": "1c1cdf83",
   "metadata": {},
   "outputs": [
    {
     "data": {
      "text/plain": [
       "0     56.0\n",
       "1     48.0\n",
       "2     58.0\n",
       "3     70.0\n",
       "4     47.0\n",
       "      ... \n",
       "95    31.0\n",
       "96    54.0\n",
       "97    53.0\n",
       "98    50.0\n",
       "99    47.0\n",
       "Length: 99, dtype: float64"
      ]
     },
     "execution_count": 10,
     "metadata": {},
     "output_type": "execute_result"
    }
   ],
   "source": [
    "#series with removing outliers\n",
    "ser[ser > lower_limit]    "
   ]
  },
  {
   "cell_type": "code",
   "execution_count": 11,
   "id": "44d5e741",
   "metadata": {},
   "outputs": [
    {
     "data": {
      "text/plain": [
       "array([42.  , 55.25])"
      ]
     },
     "execution_count": 11,
     "metadata": {},
     "output_type": "execute_result"
    }
   ],
   "source": [
    "# numpy can give percentile value directly\n",
    "np.percentile(sample,[25,75])"
   ]
  },
  {
   "cell_type": "code",
   "execution_count": 12,
   "id": "1e10ce26",
   "metadata": {},
   "outputs": [],
   "source": [
    "#tuple packing\n",
    "q25,q75 = np.percentile(sample,[25,75])"
   ]
  },
  {
   "cell_type": "code",
   "execution_count": 13,
   "id": "de6fd1b2",
   "metadata": {},
   "outputs": [
    {
     "data": {
      "text/plain": [
       "13.25"
      ]
     },
     "execution_count": 13,
     "metadata": {},
     "output_type": "execute_result"
    }
   ],
   "source": [
    "IQR = q75 - q25\n",
    "IQR"
   ]
  },
  {
   "cell_type": "code",
   "execution_count": 14,
   "id": "0e3a9e1b",
   "metadata": {},
   "outputs": [],
   "source": [
    "## Now we use Ames Housing data to work upon\n",
    "df = pd.read_csv('Ames_Housing_Data.csv')"
   ]
  },
  {
   "cell_type": "code",
   "execution_count": 15,
   "id": "831c3502",
   "metadata": {},
   "outputs": [
    {
     "data": {
      "text/html": [
       "<div>\n",
       "<style scoped>\n",
       "    .dataframe tbody tr th:only-of-type {\n",
       "        vertical-align: middle;\n",
       "    }\n",
       "\n",
       "    .dataframe tbody tr th {\n",
       "        vertical-align: top;\n",
       "    }\n",
       "\n",
       "    .dataframe thead th {\n",
       "        text-align: right;\n",
       "    }\n",
       "</style>\n",
       "<table border=\"1\" class=\"dataframe\">\n",
       "  <thead>\n",
       "    <tr style=\"text-align: right;\">\n",
       "      <th></th>\n",
       "      <th>PID</th>\n",
       "      <th>MS SubClass</th>\n",
       "      <th>MS Zoning</th>\n",
       "      <th>Lot Frontage</th>\n",
       "      <th>Lot Area</th>\n",
       "      <th>Street</th>\n",
       "      <th>Alley</th>\n",
       "      <th>Lot Shape</th>\n",
       "      <th>Land Contour</th>\n",
       "      <th>Utilities</th>\n",
       "      <th>...</th>\n",
       "      <th>Pool Area</th>\n",
       "      <th>Pool QC</th>\n",
       "      <th>Fence</th>\n",
       "      <th>Misc Feature</th>\n",
       "      <th>Misc Val</th>\n",
       "      <th>Mo Sold</th>\n",
       "      <th>Yr Sold</th>\n",
       "      <th>Sale Type</th>\n",
       "      <th>Sale Condition</th>\n",
       "      <th>SalePrice</th>\n",
       "    </tr>\n",
       "  </thead>\n",
       "  <tbody>\n",
       "    <tr>\n",
       "      <th>0</th>\n",
       "      <td>526301100</td>\n",
       "      <td>20</td>\n",
       "      <td>RL</td>\n",
       "      <td>141.0</td>\n",
       "      <td>31770</td>\n",
       "      <td>Pave</td>\n",
       "      <td>NaN</td>\n",
       "      <td>IR1</td>\n",
       "      <td>Lvl</td>\n",
       "      <td>AllPub</td>\n",
       "      <td>...</td>\n",
       "      <td>0</td>\n",
       "      <td>NaN</td>\n",
       "      <td>NaN</td>\n",
       "      <td>NaN</td>\n",
       "      <td>0</td>\n",
       "      <td>5</td>\n",
       "      <td>2010</td>\n",
       "      <td>WD</td>\n",
       "      <td>Normal</td>\n",
       "      <td>215000</td>\n",
       "    </tr>\n",
       "    <tr>\n",
       "      <th>1</th>\n",
       "      <td>526350040</td>\n",
       "      <td>20</td>\n",
       "      <td>RH</td>\n",
       "      <td>80.0</td>\n",
       "      <td>11622</td>\n",
       "      <td>Pave</td>\n",
       "      <td>NaN</td>\n",
       "      <td>Reg</td>\n",
       "      <td>Lvl</td>\n",
       "      <td>AllPub</td>\n",
       "      <td>...</td>\n",
       "      <td>0</td>\n",
       "      <td>NaN</td>\n",
       "      <td>MnPrv</td>\n",
       "      <td>NaN</td>\n",
       "      <td>0</td>\n",
       "      <td>6</td>\n",
       "      <td>2010</td>\n",
       "      <td>WD</td>\n",
       "      <td>Normal</td>\n",
       "      <td>105000</td>\n",
       "    </tr>\n",
       "    <tr>\n",
       "      <th>2</th>\n",
       "      <td>526351010</td>\n",
       "      <td>20</td>\n",
       "      <td>RL</td>\n",
       "      <td>81.0</td>\n",
       "      <td>14267</td>\n",
       "      <td>Pave</td>\n",
       "      <td>NaN</td>\n",
       "      <td>IR1</td>\n",
       "      <td>Lvl</td>\n",
       "      <td>AllPub</td>\n",
       "      <td>...</td>\n",
       "      <td>0</td>\n",
       "      <td>NaN</td>\n",
       "      <td>NaN</td>\n",
       "      <td>Gar2</td>\n",
       "      <td>12500</td>\n",
       "      <td>6</td>\n",
       "      <td>2010</td>\n",
       "      <td>WD</td>\n",
       "      <td>Normal</td>\n",
       "      <td>172000</td>\n",
       "    </tr>\n",
       "    <tr>\n",
       "      <th>3</th>\n",
       "      <td>526353030</td>\n",
       "      <td>20</td>\n",
       "      <td>RL</td>\n",
       "      <td>93.0</td>\n",
       "      <td>11160</td>\n",
       "      <td>Pave</td>\n",
       "      <td>NaN</td>\n",
       "      <td>Reg</td>\n",
       "      <td>Lvl</td>\n",
       "      <td>AllPub</td>\n",
       "      <td>...</td>\n",
       "      <td>0</td>\n",
       "      <td>NaN</td>\n",
       "      <td>NaN</td>\n",
       "      <td>NaN</td>\n",
       "      <td>0</td>\n",
       "      <td>4</td>\n",
       "      <td>2010</td>\n",
       "      <td>WD</td>\n",
       "      <td>Normal</td>\n",
       "      <td>244000</td>\n",
       "    </tr>\n",
       "    <tr>\n",
       "      <th>4</th>\n",
       "      <td>527105010</td>\n",
       "      <td>60</td>\n",
       "      <td>RL</td>\n",
       "      <td>74.0</td>\n",
       "      <td>13830</td>\n",
       "      <td>Pave</td>\n",
       "      <td>NaN</td>\n",
       "      <td>IR1</td>\n",
       "      <td>Lvl</td>\n",
       "      <td>AllPub</td>\n",
       "      <td>...</td>\n",
       "      <td>0</td>\n",
       "      <td>NaN</td>\n",
       "      <td>MnPrv</td>\n",
       "      <td>NaN</td>\n",
       "      <td>0</td>\n",
       "      <td>3</td>\n",
       "      <td>2010</td>\n",
       "      <td>WD</td>\n",
       "      <td>Normal</td>\n",
       "      <td>189900</td>\n",
       "    </tr>\n",
       "  </tbody>\n",
       "</table>\n",
       "<p>5 rows × 81 columns</p>\n",
       "</div>"
      ],
      "text/plain": [
       "         PID  MS SubClass MS Zoning  Lot Frontage  Lot Area Street Alley  \\\n",
       "0  526301100           20        RL         141.0     31770   Pave   NaN   \n",
       "1  526350040           20        RH          80.0     11622   Pave   NaN   \n",
       "2  526351010           20        RL          81.0     14267   Pave   NaN   \n",
       "3  526353030           20        RL          93.0     11160   Pave   NaN   \n",
       "4  527105010           60        RL          74.0     13830   Pave   NaN   \n",
       "\n",
       "  Lot Shape Land Contour Utilities  ... Pool Area Pool QC  Fence Misc Feature  \\\n",
       "0       IR1          Lvl    AllPub  ...         0     NaN    NaN          NaN   \n",
       "1       Reg          Lvl    AllPub  ...         0     NaN  MnPrv          NaN   \n",
       "2       IR1          Lvl    AllPub  ...         0     NaN    NaN         Gar2   \n",
       "3       Reg          Lvl    AllPub  ...         0     NaN    NaN          NaN   \n",
       "4       IR1          Lvl    AllPub  ...         0     NaN  MnPrv          NaN   \n",
       "\n",
       "  Misc Val Mo Sold Yr Sold  Sale Type  Sale Condition  SalePrice  \n",
       "0        0       5    2010        WD           Normal     215000  \n",
       "1        0       6    2010        WD           Normal     105000  \n",
       "2    12500       6    2010        WD           Normal     172000  \n",
       "3        0       4    2010        WD           Normal     244000  \n",
       "4        0       3    2010        WD           Normal     189900  \n",
       "\n",
       "[5 rows x 81 columns]"
      ]
     },
     "execution_count": 15,
     "metadata": {},
     "output_type": "execute_result"
    }
   ],
   "source": [
    "df.head()"
   ]
  },
  {
   "cell_type": "code",
   "execution_count": 16,
   "id": "e8bfdaa7",
   "metadata": {},
   "outputs": [],
   "source": [
    "#sale price is main label. Want prediction for sale price depending on other features.\n",
    "#deal with outliers."
   ]
  },
  {
   "cell_type": "code",
   "execution_count": 17,
   "id": "e9837417",
   "metadata": {},
   "outputs": [
    {
     "data": {
      "text/plain": [
       "PID               -0.246521\n",
       "Enclosed Porch    -0.128787\n",
       "Kitchen AbvGr     -0.119814\n",
       "Overall Cond      -0.101697\n",
       "MS SubClass       -0.085092\n",
       "Low Qual Fin SF   -0.037660\n",
       "Bsmt Half Bath    -0.035835\n",
       "Yr Sold           -0.030569\n",
       "Misc Val          -0.015691\n",
       "BsmtFin SF 2       0.005891\n",
       "3Ssn Porch         0.032225\n",
       "Mo Sold            0.035259\n",
       "Pool Area          0.068403\n",
       "Screen Porch       0.112151\n",
       "Bedroom AbvGr      0.143913\n",
       "Bsmt Unf SF        0.182855\n",
       "Lot Area           0.266549\n",
       "2nd Flr SF         0.269373\n",
       "Bsmt Full Bath     0.276050\n",
       "Half Bath          0.285056\n",
       "Open Porch SF      0.312951\n",
       "Wood Deck SF       0.327143\n",
       "Lot Frontage       0.357318\n",
       "BsmtFin SF 1       0.432914\n",
       "Fireplaces         0.474558\n",
       "TotRms AbvGrd      0.495474\n",
       "Mas Vnr Area       0.508285\n",
       "Garage Yr Blt      0.526965\n",
       "Year Remod/Add     0.532974\n",
       "Full Bath          0.545604\n",
       "Year Built         0.558426\n",
       "1st Flr SF         0.621676\n",
       "Total Bsmt SF      0.632280\n",
       "Garage Area        0.640401\n",
       "Garage Cars        0.647877\n",
       "Gr Liv Area        0.706780\n",
       "Overall Qual       0.799262\n",
       "SalePrice          1.000000\n",
       "Name: SalePrice, dtype: float64"
      ]
     },
     "execution_count": 17,
     "metadata": {},
     "output_type": "execute_result"
    }
   ],
   "source": [
    "#Let us see correlation\n",
    "df.corr()['SalePrice'].sort_values()"
   ]
  },
  {
   "cell_type": "code",
   "execution_count": 18,
   "id": "40be99a7",
   "metadata": {},
   "outputs": [
    {
     "data": {
      "text/plain": [
       "<AxesSubplot:xlabel='Overall Qual', ylabel='SalePrice'>"
      ]
     },
     "execution_count": 18,
     "metadata": {},
     "output_type": "execute_result"
    },
    {
     "data": {
      "image/png": "[encoded data removed]",
      "text/plain": [
       "<Figure size 432x288 with 1 Axes>"
      ]
     },
     "metadata": {
      "needs_background": "light"
     },
     "output_type": "display_data"
    }
   ],
   "source": [
    "# overall Qual is higly positivwly correlated with SalePrice\n",
    "sns.scatterplot(x='Overall Qual',y='SalePrice',data=df)"
   ]
  },
  {
   "cell_type": "code",
   "execution_count": 19,
   "id": "b0274f0a",
   "metadata": {},
   "outputs": [
    {
     "data": {
      "text/plain": [
       "<AxesSubplot:xlabel='Gr Liv Area', ylabel='SalePrice'>"
      ]
     },
     "execution_count": 19,
     "metadata": {},
     "output_type": "execute_result"
    },
    {
     "data": {
      "image/png": "[encoded data removed]",
      "text/plain": [
       "<Figure size 432x288 with 1 Axes>"
      ]
     },
     "metadata": {
      "needs_background": "light"
     },
     "output_type": "display_data"
    }
   ],
   "source": [
    "# qualtity 9,10 and low saleprice 3points look outliers. Let's check with other parameter\n",
    "sns.scatterplot(x='Gr Liv Area', y='SalePrice',data=df)"
   ]
  },
  {
   "cell_type": "code",
   "execution_count": 20,
   "id": "2d611869",
   "metadata": {},
   "outputs": [
    {
     "data": {
      "text/html": [
       "<div>\n",
       "<style scoped>\n",
       "    .dataframe tbody tr th:only-of-type {\n",
       "        vertical-align: middle;\n",
       "    }\n",
       "\n",
       "    .dataframe tbody tr th {\n",
       "        vertical-align: top;\n",
       "    }\n",
       "\n",
       "    .dataframe thead th {\n",
       "        text-align: right;\n",
       "    }\n",
       "</style>\n",
       "<table border=\"1\" class=\"dataframe\">\n",
       "  <thead>\n",
       "    <tr style=\"text-align: right;\">\n",
       "      <th></th>\n",
       "      <th>PID</th>\n",
       "      <th>MS SubClass</th>\n",
       "      <th>MS Zoning</th>\n",
       "      <th>Lot Frontage</th>\n",
       "      <th>Lot Area</th>\n",
       "      <th>Street</th>\n",
       "      <th>Alley</th>\n",
       "      <th>Lot Shape</th>\n",
       "      <th>Land Contour</th>\n",
       "      <th>Utilities</th>\n",
       "      <th>...</th>\n",
       "      <th>Pool Area</th>\n",
       "      <th>Pool QC</th>\n",
       "      <th>Fence</th>\n",
       "      <th>Misc Feature</th>\n",
       "      <th>Misc Val</th>\n",
       "      <th>Mo Sold</th>\n",
       "      <th>Yr Sold</th>\n",
       "      <th>Sale Type</th>\n",
       "      <th>Sale Condition</th>\n",
       "      <th>SalePrice</th>\n",
       "    </tr>\n",
       "  </thead>\n",
       "  <tbody>\n",
       "    <tr>\n",
       "      <th>1182</th>\n",
       "      <td>533350090</td>\n",
       "      <td>60</td>\n",
       "      <td>RL</td>\n",
       "      <td>NaN</td>\n",
       "      <td>24572</td>\n",
       "      <td>Pave</td>\n",
       "      <td>NaN</td>\n",
       "      <td>IR1</td>\n",
       "      <td>Lvl</td>\n",
       "      <td>AllPub</td>\n",
       "      <td>...</td>\n",
       "      <td>0</td>\n",
       "      <td>NaN</td>\n",
       "      <td>NaN</td>\n",
       "      <td>NaN</td>\n",
       "      <td>0</td>\n",
       "      <td>6</td>\n",
       "      <td>2008</td>\n",
       "      <td>WD</td>\n",
       "      <td>Family</td>\n",
       "      <td>150000</td>\n",
       "    </tr>\n",
       "    <tr>\n",
       "      <th>1498</th>\n",
       "      <td>908154235</td>\n",
       "      <td>60</td>\n",
       "      <td>RL</td>\n",
       "      <td>313.0</td>\n",
       "      <td>63887</td>\n",
       "      <td>Pave</td>\n",
       "      <td>NaN</td>\n",
       "      <td>IR3</td>\n",
       "      <td>Bnk</td>\n",
       "      <td>AllPub</td>\n",
       "      <td>...</td>\n",
       "      <td>480</td>\n",
       "      <td>Gd</td>\n",
       "      <td>NaN</td>\n",
       "      <td>NaN</td>\n",
       "      <td>0</td>\n",
       "      <td>1</td>\n",
       "      <td>2008</td>\n",
       "      <td>New</td>\n",
       "      <td>Partial</td>\n",
       "      <td>160000</td>\n",
       "    </tr>\n",
       "    <tr>\n",
       "      <th>2180</th>\n",
       "      <td>908154195</td>\n",
       "      <td>20</td>\n",
       "      <td>RL</td>\n",
       "      <td>128.0</td>\n",
       "      <td>39290</td>\n",
       "      <td>Pave</td>\n",
       "      <td>NaN</td>\n",
       "      <td>IR1</td>\n",
       "      <td>Bnk</td>\n",
       "      <td>AllPub</td>\n",
       "      <td>...</td>\n",
       "      <td>0</td>\n",
       "      <td>NaN</td>\n",
       "      <td>NaN</td>\n",
       "      <td>Elev</td>\n",
       "      <td>17000</td>\n",
       "      <td>10</td>\n",
       "      <td>2007</td>\n",
       "      <td>New</td>\n",
       "      <td>Partial</td>\n",
       "      <td>183850</td>\n",
       "    </tr>\n",
       "    <tr>\n",
       "      <th>2181</th>\n",
       "      <td>908154205</td>\n",
       "      <td>60</td>\n",
       "      <td>RL</td>\n",
       "      <td>130.0</td>\n",
       "      <td>40094</td>\n",
       "      <td>Pave</td>\n",
       "      <td>NaN</td>\n",
       "      <td>IR1</td>\n",
       "      <td>Bnk</td>\n",
       "      <td>AllPub</td>\n",
       "      <td>...</td>\n",
       "      <td>0</td>\n",
       "      <td>NaN</td>\n",
       "      <td>NaN</td>\n",
       "      <td>NaN</td>\n",
       "      <td>0</td>\n",
       "      <td>10</td>\n",
       "      <td>2007</td>\n",
       "      <td>New</td>\n",
       "      <td>Partial</td>\n",
       "      <td>184750</td>\n",
       "    </tr>\n",
       "  </tbody>\n",
       "</table>\n",
       "<p>4 rows × 81 columns</p>\n",
       "</div>"
      ],
      "text/plain": [
       "            PID  MS SubClass MS Zoning  Lot Frontage  Lot Area Street Alley  \\\n",
       "1182  533350090           60        RL           NaN     24572   Pave   NaN   \n",
       "1498  908154235           60        RL         313.0     63887   Pave   NaN   \n",
       "2180  908154195           20        RL         128.0     39290   Pave   NaN   \n",
       "2181  908154205           60        RL         130.0     40094   Pave   NaN   \n",
       "\n",
       "     Lot Shape Land Contour Utilities  ... Pool Area Pool QC Fence  \\\n",
       "1182       IR1          Lvl    AllPub  ...         0     NaN   NaN   \n",
       "1498       IR3          Bnk    AllPub  ...       480      Gd   NaN   \n",
       "2180       IR1          Bnk    AllPub  ...         0     NaN   NaN   \n",
       "2181       IR1          Bnk    AllPub  ...         0     NaN   NaN   \n",
       "\n",
       "     Misc Feature Misc Val Mo Sold Yr Sold  Sale Type  Sale Condition  \\\n",
       "1182          NaN        0       6    2008        WD           Family   \n",
       "1498          NaN        0       1    2008        New         Partial   \n",
       "2180         Elev    17000      10    2007        New         Partial   \n",
       "2181          NaN        0      10    2007        New         Partial   \n",
       "\n",
       "      SalePrice  \n",
       "1182     150000  \n",
       "1498     160000  \n",
       "2180     183850  \n",
       "2181     184750  \n",
       "\n",
       "[4 rows x 81 columns]"
      ]
     },
     "execution_count": 20,
     "metadata": {},
     "output_type": "execute_result"
    }
   ],
   "source": [
    "# those 3points, are they at right bottom??\n",
    "df[(df['Overall Qual']>8) & (df['SalePrice']<200000)]"
   ]
  },
  {
   "cell_type": "code",
   "execution_count": 21,
   "id": "17778d15",
   "metadata": {},
   "outputs": [],
   "source": [
    "#we got 4 points\n",
    "#Bottom right 3points are not following the trend. High Quality but SalePrice is low.   \n",
    "#we need domain knowledge to discern"
   ]
  },
  {
   "cell_type": "code",
   "execution_count": 22,
   "id": "5fa0cc9d",
   "metadata": {},
   "outputs": [
    {
     "data": {
      "text/html": [
       "<div>\n",
       "<style scoped>\n",
       "    .dataframe tbody tr th:only-of-type {\n",
       "        vertical-align: middle;\n",
       "    }\n",
       "\n",
       "    .dataframe tbody tr th {\n",
       "        vertical-align: top;\n",
       "    }\n",
       "\n",
       "    .dataframe thead th {\n",
       "        text-align: right;\n",
       "    }\n",
       "</style>\n",
       "<table border=\"1\" class=\"dataframe\">\n",
       "  <thead>\n",
       "    <tr style=\"text-align: right;\">\n",
       "      <th></th>\n",
       "      <th>PID</th>\n",
       "      <th>MS SubClass</th>\n",
       "      <th>MS Zoning</th>\n",
       "      <th>Lot Frontage</th>\n",
       "      <th>Lot Area</th>\n",
       "      <th>Street</th>\n",
       "      <th>Alley</th>\n",
       "      <th>Lot Shape</th>\n",
       "      <th>Land Contour</th>\n",
       "      <th>Utilities</th>\n",
       "      <th>...</th>\n",
       "      <th>Pool Area</th>\n",
       "      <th>Pool QC</th>\n",
       "      <th>Fence</th>\n",
       "      <th>Misc Feature</th>\n",
       "      <th>Misc Val</th>\n",
       "      <th>Mo Sold</th>\n",
       "      <th>Yr Sold</th>\n",
       "      <th>Sale Type</th>\n",
       "      <th>Sale Condition</th>\n",
       "      <th>SalePrice</th>\n",
       "    </tr>\n",
       "  </thead>\n",
       "  <tbody>\n",
       "    <tr>\n",
       "      <th>1498</th>\n",
       "      <td>908154235</td>\n",
       "      <td>60</td>\n",
       "      <td>RL</td>\n",
       "      <td>313.0</td>\n",
       "      <td>63887</td>\n",
       "      <td>Pave</td>\n",
       "      <td>NaN</td>\n",
       "      <td>IR3</td>\n",
       "      <td>Bnk</td>\n",
       "      <td>AllPub</td>\n",
       "      <td>...</td>\n",
       "      <td>480</td>\n",
       "      <td>Gd</td>\n",
       "      <td>NaN</td>\n",
       "      <td>NaN</td>\n",
       "      <td>0</td>\n",
       "      <td>1</td>\n",
       "      <td>2008</td>\n",
       "      <td>New</td>\n",
       "      <td>Partial</td>\n",
       "      <td>160000</td>\n",
       "    </tr>\n",
       "    <tr>\n",
       "      <th>2180</th>\n",
       "      <td>908154195</td>\n",
       "      <td>20</td>\n",
       "      <td>RL</td>\n",
       "      <td>128.0</td>\n",
       "      <td>39290</td>\n",
       "      <td>Pave</td>\n",
       "      <td>NaN</td>\n",
       "      <td>IR1</td>\n",
       "      <td>Bnk</td>\n",
       "      <td>AllPub</td>\n",
       "      <td>...</td>\n",
       "      <td>0</td>\n",
       "      <td>NaN</td>\n",
       "      <td>NaN</td>\n",
       "      <td>Elev</td>\n",
       "      <td>17000</td>\n",
       "      <td>10</td>\n",
       "      <td>2007</td>\n",
       "      <td>New</td>\n",
       "      <td>Partial</td>\n",
       "      <td>183850</td>\n",
       "    </tr>\n",
       "    <tr>\n",
       "      <th>2181</th>\n",
       "      <td>908154205</td>\n",
       "      <td>60</td>\n",
       "      <td>RL</td>\n",
       "      <td>130.0</td>\n",
       "      <td>40094</td>\n",
       "      <td>Pave</td>\n",
       "      <td>NaN</td>\n",
       "      <td>IR1</td>\n",
       "      <td>Bnk</td>\n",
       "      <td>AllPub</td>\n",
       "      <td>...</td>\n",
       "      <td>0</td>\n",
       "      <td>NaN</td>\n",
       "      <td>NaN</td>\n",
       "      <td>NaN</td>\n",
       "      <td>0</td>\n",
       "      <td>10</td>\n",
       "      <td>2007</td>\n",
       "      <td>New</td>\n",
       "      <td>Partial</td>\n",
       "      <td>184750</td>\n",
       "    </tr>\n",
       "  </tbody>\n",
       "</table>\n",
       "<p>3 rows × 81 columns</p>\n",
       "</div>"
      ],
      "text/plain": [
       "            PID  MS SubClass MS Zoning  Lot Frontage  Lot Area Street Alley  \\\n",
       "1498  908154235           60        RL         313.0     63887   Pave   NaN   \n",
       "2180  908154195           20        RL         128.0     39290   Pave   NaN   \n",
       "2181  908154205           60        RL         130.0     40094   Pave   NaN   \n",
       "\n",
       "     Lot Shape Land Contour Utilities  ... Pool Area Pool QC Fence  \\\n",
       "1498       IR3          Bnk    AllPub  ...       480      Gd   NaN   \n",
       "2180       IR1          Bnk    AllPub  ...         0     NaN   NaN   \n",
       "2181       IR1          Bnk    AllPub  ...         0     NaN   NaN   \n",
       "\n",
       "     Misc Feature Misc Val Mo Sold Yr Sold  Sale Type  Sale Condition  \\\n",
       "1498          NaN        0       1    2008        New         Partial   \n",
       "2180         Elev    17000      10    2007        New         Partial   \n",
       "2181          NaN        0      10    2007        New         Partial   \n",
       "\n",
       "      SalePrice  \n",
       "1498     160000  \n",
       "2180     183850  \n",
       "2181     184750  \n",
       "\n",
       "[3 rows x 81 columns]"
      ]
     },
     "execution_count": 22,
     "metadata": {},
     "output_type": "execute_result"
    }
   ],
   "source": [
    "df[(df['Gr Liv Area']>4000) & (df['SalePrice']<300000)]"
   ]
  },
  {
   "cell_type": "code",
   "execution_count": 23,
   "id": "3b8213bd",
   "metadata": {},
   "outputs": [
    {
     "data": {
      "text/plain": [
       "Int64Index([1498, 2180, 2181], dtype='int64')"
      ]
     },
     "execution_count": 23,
     "metadata": {},
     "output_type": "execute_result"
    }
   ],
   "source": [
    "#dropping the outliers using the indices\n",
    "drop_ind = df[(df['Gr Liv Area']>4000) & (df['SalePrice']<300000)].index\n",
    "drop_ind"
   ]
  },
  {
   "cell_type": "code",
   "execution_count": 24,
   "id": "2283a428",
   "metadata": {},
   "outputs": [],
   "source": [
    "df = df.drop(index=drop_ind,axis=0)"
   ]
  },
  {
   "cell_type": "code",
   "execution_count": 25,
   "id": "56509edd",
   "metadata": {},
   "outputs": [
    {
     "data": {
      "text/plain": [
       "<AxesSubplot:xlabel='Gr Liv Area', ylabel='SalePrice'>"
      ]
     },
     "execution_count": 25,
     "metadata": {},
     "output_type": "execute_result"
    },
    {
     "data": {
      "image/png": "[encoded data removed]",
      "text/plain": [
       "<Figure size 432x288 with 1 Axes>"
      ]
     },
     "metadata": {
      "needs_background": "light"
     },
     "output_type": "display_data"
    }
   ],
   "source": [
    "sns.scatterplot(x='Gr Liv Area', y='SalePrice',data=df) #they're dropped"
   ]
  },
  {
   "cell_type": "markdown",
   "id": "faa19f5f",
   "metadata": {},
   "source": [
    "Example, where those 3points may not be outliers.   \n",
    "Say, those 3points are recent data -- depicts changing scenario   \n",
    "like, during financial crisis, large houses were selling at lower prices.   \n",
    "\n",
    "**Need Domain Knowledge. Important!**"
   ]
  },
  {
   "cell_type": "code",
   "execution_count": 26,
   "id": "5b9b383e",
   "metadata": {},
   "outputs": [],
   "source": [
    "#storing this data\n",
    "df.to_csv('Ames_outliers_removed.csv')"
   ]
  },
  {
   "cell_type": "markdown",
   "id": "ec2dbf97",
   "metadata": {},
   "source": [
    "## Evaluating of the missing Data"
   ]
  },
  {
   "cell_type": "markdown",
   "id": "5105f380",
   "metadata": {},
   "source": [
    "It is good if we have description of the data, which we use."
   ]
  },
  {
   "cell_type": "code",
   "execution_count": 100,
   "id": "db838af1",
   "metadata": {},
   "outputs": [],
   "source": [
    "#with open('Ames_Housing_Feature_Description.txt','r') as f:\n",
    "#    print(f.read())"
   ]
  },
  {
   "cell_type": "code",
   "execution_count": 28,
   "id": "7d329a2d",
   "metadata": {},
   "outputs": [],
   "source": [
    "# we use\n",
    "df1 = pd.read_csv('Ames_outliers_removed.csv')"
   ]
  },
  {
   "cell_type": "code",
   "execution_count": 29,
   "id": "aef368c3",
   "metadata": {},
   "outputs": [],
   "source": [
    "#df1.info()"
   ]
  },
  {
   "cell_type": "code",
   "execution_count": 30,
   "id": "1bc0a4a3",
   "metadata": {},
   "outputs": [
    {
     "data": {
      "text/html": [
       "<div>\n",
       "<style scoped>\n",
       "    .dataframe tbody tr th:only-of-type {\n",
       "        vertical-align: middle;\n",
       "    }\n",
       "\n",
       "    .dataframe tbody tr th {\n",
       "        vertical-align: top;\n",
       "    }\n",
       "\n",
       "    .dataframe thead th {\n",
       "        text-align: right;\n",
       "    }\n",
       "</style>\n",
       "<table border=\"1\" class=\"dataframe\">\n",
       "  <thead>\n",
       "    <tr style=\"text-align: right;\">\n",
       "      <th></th>\n",
       "      <th>Unnamed: 0</th>\n",
       "      <th>PID</th>\n",
       "      <th>MS SubClass</th>\n",
       "      <th>MS Zoning</th>\n",
       "      <th>Lot Frontage</th>\n",
       "      <th>Lot Area</th>\n",
       "      <th>Street</th>\n",
       "      <th>Alley</th>\n",
       "      <th>Lot Shape</th>\n",
       "      <th>Land Contour</th>\n",
       "      <th>...</th>\n",
       "      <th>Pool Area</th>\n",
       "      <th>Pool QC</th>\n",
       "      <th>Fence</th>\n",
       "      <th>Misc Feature</th>\n",
       "      <th>Misc Val</th>\n",
       "      <th>Mo Sold</th>\n",
       "      <th>Yr Sold</th>\n",
       "      <th>Sale Type</th>\n",
       "      <th>Sale Condition</th>\n",
       "      <th>SalePrice</th>\n",
       "    </tr>\n",
       "  </thead>\n",
       "  <tbody>\n",
       "    <tr>\n",
       "      <th>0</th>\n",
       "      <td>0</td>\n",
       "      <td>526301100</td>\n",
       "      <td>20</td>\n",
       "      <td>RL</td>\n",
       "      <td>141.0</td>\n",
       "      <td>31770</td>\n",
       "      <td>Pave</td>\n",
       "      <td>NaN</td>\n",
       "      <td>IR1</td>\n",
       "      <td>Lvl</td>\n",
       "      <td>...</td>\n",
       "      <td>0</td>\n",
       "      <td>NaN</td>\n",
       "      <td>NaN</td>\n",
       "      <td>NaN</td>\n",
       "      <td>0</td>\n",
       "      <td>5</td>\n",
       "      <td>2010</td>\n",
       "      <td>WD</td>\n",
       "      <td>Normal</td>\n",
       "      <td>215000</td>\n",
       "    </tr>\n",
       "    <tr>\n",
       "      <th>1</th>\n",
       "      <td>1</td>\n",
       "      <td>526350040</td>\n",
       "      <td>20</td>\n",
       "      <td>RH</td>\n",
       "      <td>80.0</td>\n",
       "      <td>11622</td>\n",
       "      <td>Pave</td>\n",
       "      <td>NaN</td>\n",
       "      <td>Reg</td>\n",
       "      <td>Lvl</td>\n",
       "      <td>...</td>\n",
       "      <td>0</td>\n",
       "      <td>NaN</td>\n",
       "      <td>MnPrv</td>\n",
       "      <td>NaN</td>\n",
       "      <td>0</td>\n",
       "      <td>6</td>\n",
       "      <td>2010</td>\n",
       "      <td>WD</td>\n",
       "      <td>Normal</td>\n",
       "      <td>105000</td>\n",
       "    </tr>\n",
       "    <tr>\n",
       "      <th>2</th>\n",
       "      <td>2</td>\n",
       "      <td>526351010</td>\n",
       "      <td>20</td>\n",
       "      <td>RL</td>\n",
       "      <td>81.0</td>\n",
       "      <td>14267</td>\n",
       "      <td>Pave</td>\n",
       "      <td>NaN</td>\n",
       "      <td>IR1</td>\n",
       "      <td>Lvl</td>\n",
       "      <td>...</td>\n",
       "      <td>0</td>\n",
       "      <td>NaN</td>\n",
       "      <td>NaN</td>\n",
       "      <td>Gar2</td>\n",
       "      <td>12500</td>\n",
       "      <td>6</td>\n",
       "      <td>2010</td>\n",
       "      <td>WD</td>\n",
       "      <td>Normal</td>\n",
       "      <td>172000</td>\n",
       "    </tr>\n",
       "    <tr>\n",
       "      <th>3</th>\n",
       "      <td>3</td>\n",
       "      <td>526353030</td>\n",
       "      <td>20</td>\n",
       "      <td>RL</td>\n",
       "      <td>93.0</td>\n",
       "      <td>11160</td>\n",
       "      <td>Pave</td>\n",
       "      <td>NaN</td>\n",
       "      <td>Reg</td>\n",
       "      <td>Lvl</td>\n",
       "      <td>...</td>\n",
       "      <td>0</td>\n",
       "      <td>NaN</td>\n",
       "      <td>NaN</td>\n",
       "      <td>NaN</td>\n",
       "      <td>0</td>\n",
       "      <td>4</td>\n",
       "      <td>2010</td>\n",
       "      <td>WD</td>\n",
       "      <td>Normal</td>\n",
       "      <td>244000</td>\n",
       "    </tr>\n",
       "    <tr>\n",
       "      <th>4</th>\n",
       "      <td>4</td>\n",
       "      <td>527105010</td>\n",
       "      <td>60</td>\n",
       "      <td>RL</td>\n",
       "      <td>74.0</td>\n",
       "      <td>13830</td>\n",
       "      <td>Pave</td>\n",
       "      <td>NaN</td>\n",
       "      <td>IR1</td>\n",
       "      <td>Lvl</td>\n",
       "      <td>...</td>\n",
       "      <td>0</td>\n",
       "      <td>NaN</td>\n",
       "      <td>MnPrv</td>\n",
       "      <td>NaN</td>\n",
       "      <td>0</td>\n",
       "      <td>3</td>\n",
       "      <td>2010</td>\n",
       "      <td>WD</td>\n",
       "      <td>Normal</td>\n",
       "      <td>189900</td>\n",
       "    </tr>\n",
       "  </tbody>\n",
       "</table>\n",
       "<p>5 rows × 82 columns</p>\n",
       "</div>"
      ],
      "text/plain": [
       "   Unnamed: 0        PID  MS SubClass MS Zoning  Lot Frontage  Lot Area  \\\n",
       "0           0  526301100           20        RL         141.0     31770   \n",
       "1           1  526350040           20        RH          80.0     11622   \n",
       "2           2  526351010           20        RL          81.0     14267   \n",
       "3           3  526353030           20        RL          93.0     11160   \n",
       "4           4  527105010           60        RL          74.0     13830   \n",
       "\n",
       "  Street Alley Lot Shape Land Contour  ... Pool Area Pool QC  Fence  \\\n",
       "0   Pave   NaN       IR1          Lvl  ...         0     NaN    NaN   \n",
       "1   Pave   NaN       Reg          Lvl  ...         0     NaN  MnPrv   \n",
       "2   Pave   NaN       IR1          Lvl  ...         0     NaN    NaN   \n",
       "3   Pave   NaN       Reg          Lvl  ...         0     NaN    NaN   \n",
       "4   Pave   NaN       IR1          Lvl  ...         0     NaN  MnPrv   \n",
       "\n",
       "  Misc Feature Misc Val Mo Sold Yr Sold Sale Type  Sale Condition  SalePrice  \n",
       "0          NaN        0       5    2010       WD           Normal     215000  \n",
       "1          NaN        0       6    2010       WD           Normal     105000  \n",
       "2         Gar2    12500       6    2010       WD           Normal     172000  \n",
       "3          NaN        0       4    2010       WD           Normal     244000  \n",
       "4          NaN        0       3    2010       WD           Normal     189900  \n",
       "\n",
       "[5 rows x 82 columns]"
      ]
     },
     "execution_count": 30,
     "metadata": {},
     "output_type": "execute_result"
    }
   ],
   "source": [
    "df1.head()"
   ]
  },
  {
   "cell_type": "code",
   "execution_count": 31,
   "id": "068999d6",
   "metadata": {},
   "outputs": [],
   "source": [
    "#PID (unique ID)is of no use, we can drop it.\n",
    "df1 = df1.drop('PID', axis=1)"
   ]
  },
  {
   "cell_type": "code",
   "execution_count": 32,
   "id": "9d47fcee",
   "metadata": {},
   "outputs": [
    {
     "data": {
      "text/plain": [
       "81"
      ]
     },
     "execution_count": 32,
     "metadata": {},
     "output_type": "execute_result"
    }
   ],
   "source": [
    "len(df1.columns)"
   ]
  },
  {
   "cell_type": "code",
   "execution_count": 33,
   "id": "6e131d8d",
   "metadata": {},
   "outputs": [
    {
     "data": {
      "text/plain": [
       "Unnamed: 0          0\n",
       "MS SubClass         0\n",
       "MS Zoning           0\n",
       "Lot Frontage      490\n",
       "Lot Area            0\n",
       "                 ... \n",
       "Mo Sold             0\n",
       "Yr Sold             0\n",
       "Sale Type           0\n",
       "Sale Condition      0\n",
       "SalePrice           0\n",
       "Length: 81, dtype: int64"
      ]
     },
     "execution_count": 33,
     "metadata": {},
     "output_type": "execute_result"
    }
   ],
   "source": [
    "df1.isnull().sum()"
   ]
  },
  {
   "cell_type": "code",
   "execution_count": 34,
   "id": "12629c35",
   "metadata": {},
   "outputs": [
    {
     "data": {
      "text/plain": [
       "Unnamed: 0         0.00000\n",
       "MS SubClass        0.00000\n",
       "MS Zoning          0.00000\n",
       "Lot Frontage      16.74069\n",
       "Lot Area           0.00000\n",
       "                    ...   \n",
       "Mo Sold            0.00000\n",
       "Yr Sold            0.00000\n",
       "Sale Type          0.00000\n",
       "Sale Condition     0.00000\n",
       "SalePrice          0.00000\n",
       "Length: 81, dtype: float64"
      ]
     },
     "execution_count": 34,
     "metadata": {},
     "output_type": "execute_result"
    }
   ],
   "source": [
    "#in percentages\n",
    "100 * df1.isnull().sum() / len(df1)"
   ]
  },
  {
   "cell_type": "code",
   "execution_count": 35,
   "id": "583571db",
   "metadata": {},
   "outputs": [],
   "source": [
    "def percent_missing(df):\n",
    "    percent_nan = 100 * df1.isnull().sum() / len(df1)\n",
    "    percent_nan = percent_nan[percent_nan > 0].sort_values()\n",
    "    \n",
    "    return percent_nan"
   ]
  },
  {
   "cell_type": "code",
   "execution_count": 36,
   "id": "ad655445",
   "metadata": {},
   "outputs": [
    {
     "data": {
      "text/plain": [
       "Electrical         0.034165\n",
       "Garage Area        0.034165\n",
       "Total Bsmt SF      0.034165\n",
       "Bsmt Unf SF        0.034165\n",
       "BsmtFin SF 1       0.034165\n",
       "BsmtFin SF 2       0.034165\n",
       "Garage Cars        0.034165\n",
       "Bsmt Full Bath     0.068329\n",
       "Bsmt Half Bath     0.068329\n",
       "Mas Vnr Area       0.785787\n",
       "Mas Vnr Type       0.785787\n",
       "BsmtFin Type 1     2.733174\n",
       "Bsmt Qual          2.733174\n",
       "Bsmt Cond          2.733174\n",
       "BsmtFin Type 2     2.767339\n",
       "Bsmt Exposure      2.835668\n",
       "Garage Type        5.363854\n",
       "Garage Finish      5.432183\n",
       "Garage Qual        5.432183\n",
       "Garage Cond        5.432183\n",
       "Garage Yr Blt      5.432183\n",
       "Lot Frontage      16.740690\n",
       "Fireplace Qu      48.582166\n",
       "Fence             80.457807\n",
       "Alley             93.235395\n",
       "Misc Feature      96.412709\n",
       "Pool QC           99.590024\n",
       "dtype: float64"
      ]
     },
     "execution_count": 36,
     "metadata": {},
     "output_type": "execute_result"
    }
   ],
   "source": [
    "percent_nan = percent_missing(df1)\n",
    "percent_nan"
   ]
  },
  {
   "cell_type": "code",
   "execution_count": 37,
   "id": "3790c535",
   "metadata": {},
   "outputs": [
    {
     "data": {
      "image/png": "[encoded data removed]",
      "text/plain": [
       "<Figure size 432x288 with 1 Axes>"
      ]
     },
     "metadata": {
      "needs_background": "light"
     },
     "output_type": "display_data"
    }
   ],
   "source": [
    "sns.barplot(x=percent_nan.index,y=percent_nan)\n",
    "plt.xticks(rotation=90);"
   ]
  },
  {
   "cell_type": "markdown",
   "id": "68f6ab39",
   "metadata": {},
   "source": [
    "## Filling data in the rows where missing percentage is low"
   ]
  },
  {
   "cell_type": "code",
   "execution_count": 38,
   "id": "1fc21120",
   "metadata": {},
   "outputs": [
    {
     "data": {
      "image/png": "[encoded data removed]",
      "text/plain": [
       "<Figure size 576x288 with 1 Axes>"
      ]
     },
     "metadata": {
      "needs_background": "light"
     },
     "output_type": "display_data"
    }
   ],
   "source": [
    "plt.figure(figsize=(8,4));\n",
    "sns.barplot(x=percent_nan.index,y=percent_nan)\n",
    "plt.xticks(rotation=90);\n",
    "plt.ylim(0,1);\n"
   ]
  },
  {
   "cell_type": "code",
   "execution_count": 39,
   "id": "e034de3a",
   "metadata": {},
   "outputs": [],
   "source": [
    "# need domain knowledge how to drop\n",
    "# here, Electrical, Garage Area etc are so low we can drop those rows"
   ]
  },
  {
   "cell_type": "code",
   "execution_count": 40,
   "id": "bec3b0da",
   "metadata": {},
   "outputs": [
    {
     "data": {
      "text/plain": [
       "Electrical        0.034165\n",
       "Garage Area       0.034165\n",
       "Total Bsmt SF     0.034165\n",
       "Bsmt Unf SF       0.034165\n",
       "BsmtFin SF 1      0.034165\n",
       "BsmtFin SF 2      0.034165\n",
       "Garage Cars       0.034165\n",
       "Bsmt Full Bath    0.068329\n",
       "Bsmt Half Bath    0.068329\n",
       "Mas Vnr Area      0.785787\n",
       "Mas Vnr Type      0.785787\n",
       "dtype: float64"
      ]
     },
     "execution_count": 40,
     "metadata": {},
     "output_type": "execute_result"
    }
   ],
   "source": [
    "percent_nan[percent_nan<1]"
   ]
  },
  {
   "cell_type": "code",
   "execution_count": 41,
   "id": "a911f61a",
   "metadata": {},
   "outputs": [
    {
     "data": {
      "text/plain": [
       "0.0341646737273659"
      ]
     },
     "execution_count": 41,
     "metadata": {},
     "output_type": "execute_result"
    }
   ],
   "source": [
    "100/len(df1)"
   ]
  },
  {
   "cell_type": "markdown",
   "id": "4f7a894c",
   "metadata": {},
   "source": [
    "i.e 1 row is missing in those columns with .034 value   \n",
    "The data missing might not belong to single row or house."
   ]
  },
  {
   "cell_type": "code",
   "execution_count": 42,
   "id": "329fb648",
   "metadata": {},
   "outputs": [
    {
     "data": {
      "text/html": [
       "<div>\n",
       "<style scoped>\n",
       "    .dataframe tbody tr th:only-of-type {\n",
       "        vertical-align: middle;\n",
       "    }\n",
       "\n",
       "    .dataframe tbody tr th {\n",
       "        vertical-align: top;\n",
       "    }\n",
       "\n",
       "    .dataframe thead th {\n",
       "        text-align: right;\n",
       "    }\n",
       "</style>\n",
       "<table border=\"1\" class=\"dataframe\">\n",
       "  <thead>\n",
       "    <tr style=\"text-align: right;\">\n",
       "      <th></th>\n",
       "      <th>Unnamed: 0</th>\n",
       "      <th>MS SubClass</th>\n",
       "      <th>MS Zoning</th>\n",
       "      <th>Lot Frontage</th>\n",
       "      <th>Lot Area</th>\n",
       "      <th>Street</th>\n",
       "      <th>Alley</th>\n",
       "      <th>Lot Shape</th>\n",
       "      <th>Land Contour</th>\n",
       "      <th>Utilities</th>\n",
       "      <th>...</th>\n",
       "      <th>Pool Area</th>\n",
       "      <th>Pool QC</th>\n",
       "      <th>Fence</th>\n",
       "      <th>Misc Feature</th>\n",
       "      <th>Misc Val</th>\n",
       "      <th>Mo Sold</th>\n",
       "      <th>Yr Sold</th>\n",
       "      <th>Sale Type</th>\n",
       "      <th>Sale Condition</th>\n",
       "      <th>SalePrice</th>\n",
       "    </tr>\n",
       "  </thead>\n",
       "  <tbody>\n",
       "    <tr>\n",
       "      <th>1576</th>\n",
       "      <td>1577</td>\n",
       "      <td>80</td>\n",
       "      <td>RL</td>\n",
       "      <td>73.0</td>\n",
       "      <td>9735</td>\n",
       "      <td>Pave</td>\n",
       "      <td>NaN</td>\n",
       "      <td>Reg</td>\n",
       "      <td>Lvl</td>\n",
       "      <td>AllPub</td>\n",
       "      <td>...</td>\n",
       "      <td>0</td>\n",
       "      <td>NaN</td>\n",
       "      <td>NaN</td>\n",
       "      <td>NaN</td>\n",
       "      <td>0</td>\n",
       "      <td>5</td>\n",
       "      <td>2008</td>\n",
       "      <td>WD</td>\n",
       "      <td>Normal</td>\n",
       "      <td>167500</td>\n",
       "    </tr>\n",
       "  </tbody>\n",
       "</table>\n",
       "<p>1 rows × 81 columns</p>\n",
       "</div>"
      ],
      "text/plain": [
       "      Unnamed: 0  MS SubClass MS Zoning  Lot Frontage  Lot Area Street Alley  \\\n",
       "1576        1577           80        RL          73.0      9735   Pave   NaN   \n",
       "\n",
       "     Lot Shape Land Contour Utilities  ... Pool Area Pool QC Fence  \\\n",
       "1576       Reg          Lvl    AllPub  ...         0     NaN   NaN   \n",
       "\n",
       "     Misc Feature Misc Val Mo Sold Yr Sold  Sale Type  Sale Condition  \\\n",
       "1576          NaN        0       5    2008        WD           Normal   \n",
       "\n",
       "      SalePrice  \n",
       "1576     167500  \n",
       "\n",
       "[1 rows x 81 columns]"
      ]
     },
     "execution_count": 42,
     "metadata": {},
     "output_type": "execute_result"
    }
   ],
   "source": [
    "df1[df1['Electrical'].isnull()]"
   ]
  },
  {
   "cell_type": "code",
   "execution_count": 43,
   "id": "132cd38a",
   "metadata": {},
   "outputs": [
    {
     "data": {
      "text/html": [
       "<div>\n",
       "<style scoped>\n",
       "    .dataframe tbody tr th:only-of-type {\n",
       "        vertical-align: middle;\n",
       "    }\n",
       "\n",
       "    .dataframe tbody tr th {\n",
       "        vertical-align: top;\n",
       "    }\n",
       "\n",
       "    .dataframe thead th {\n",
       "        text-align: right;\n",
       "    }\n",
       "</style>\n",
       "<table border=\"1\" class=\"dataframe\">\n",
       "  <thead>\n",
       "    <tr style=\"text-align: right;\">\n",
       "      <th></th>\n",
       "      <th>Unnamed: 0</th>\n",
       "      <th>MS SubClass</th>\n",
       "      <th>MS Zoning</th>\n",
       "      <th>Lot Frontage</th>\n",
       "      <th>Lot Area</th>\n",
       "      <th>Street</th>\n",
       "      <th>Alley</th>\n",
       "      <th>Lot Shape</th>\n",
       "      <th>Land Contour</th>\n",
       "      <th>Utilities</th>\n",
       "      <th>...</th>\n",
       "      <th>Pool Area</th>\n",
       "      <th>Pool QC</th>\n",
       "      <th>Fence</th>\n",
       "      <th>Misc Feature</th>\n",
       "      <th>Misc Val</th>\n",
       "      <th>Mo Sold</th>\n",
       "      <th>Yr Sold</th>\n",
       "      <th>Sale Type</th>\n",
       "      <th>Sale Condition</th>\n",
       "      <th>SalePrice</th>\n",
       "    </tr>\n",
       "  </thead>\n",
       "  <tbody>\n",
       "    <tr>\n",
       "      <th>2233</th>\n",
       "      <td>2236</td>\n",
       "      <td>70</td>\n",
       "      <td>RM</td>\n",
       "      <td>50.0</td>\n",
       "      <td>9060</td>\n",
       "      <td>Pave</td>\n",
       "      <td>NaN</td>\n",
       "      <td>Reg</td>\n",
       "      <td>Lvl</td>\n",
       "      <td>AllPub</td>\n",
       "      <td>...</td>\n",
       "      <td>0</td>\n",
       "      <td>NaN</td>\n",
       "      <td>MnPrv</td>\n",
       "      <td>NaN</td>\n",
       "      <td>0</td>\n",
       "      <td>3</td>\n",
       "      <td>2007</td>\n",
       "      <td>WD</td>\n",
       "      <td>Alloca</td>\n",
       "      <td>150909</td>\n",
       "    </tr>\n",
       "  </tbody>\n",
       "</table>\n",
       "<p>1 rows × 81 columns</p>\n",
       "</div>"
      ],
      "text/plain": [
       "      Unnamed: 0  MS SubClass MS Zoning  Lot Frontage  Lot Area Street Alley  \\\n",
       "2233        2236           70        RM          50.0      9060   Pave   NaN   \n",
       "\n",
       "     Lot Shape Land Contour Utilities  ... Pool Area Pool QC  Fence  \\\n",
       "2233       Reg          Lvl    AllPub  ...         0     NaN  MnPrv   \n",
       "\n",
       "     Misc Feature Misc Val Mo Sold Yr Sold  Sale Type  Sale Condition  \\\n",
       "2233          NaN        0       3    2007        WD           Alloca   \n",
       "\n",
       "      SalePrice  \n",
       "2233     150909  \n",
       "\n",
       "[1 rows x 81 columns]"
      ]
     },
     "execution_count": 43,
     "metadata": {},
     "output_type": "execute_result"
    }
   ],
   "source": [
    "df1[df1['Garage Area'].isnull()]"
   ]
  },
  {
   "cell_type": "markdown",
   "id": "30401b12",
   "metadata": {},
   "source": [
    "even though 1 value is missing in Electrical and Garage Area, they don't belong to same row."
   ]
  },
  {
   "cell_type": "markdown",
   "id": "6a11890a",
   "metadata": {},
   "source": [
    "dropping those rows, hopefully other missing data rows are removed simultaneously"
   ]
  },
  {
   "cell_type": "code",
   "execution_count": 44,
   "id": "e6977785",
   "metadata": {},
   "outputs": [],
   "source": [
    "df1 = df1.dropna(axis=0, subset=['Electrical', 'Garage Area'])"
   ]
  },
  {
   "cell_type": "code",
   "execution_count": 45,
   "id": "b4c19cce",
   "metadata": {},
   "outputs": [],
   "source": [
    "percent_nan = percent_missing(df1)"
   ]
  },
  {
   "cell_type": "code",
   "execution_count": 46,
   "id": "549bd0ff",
   "metadata": {},
   "outputs": [
    {
     "data": {
      "text/plain": [
       "Bsmt Unf SF       0.034188\n",
       "Total Bsmt SF     0.034188\n",
       "BsmtFin SF 2      0.034188\n",
       "BsmtFin SF 1      0.034188\n",
       "Bsmt Full Bath    0.068376\n",
       "Bsmt Half Bath    0.068376\n",
       "Mas Vnr Type      0.786325\n",
       "Mas Vnr Area      0.786325\n",
       "dtype: float64"
      ]
     },
     "execution_count": 46,
     "metadata": {},
     "output_type": "execute_result"
    }
   ],
   "source": [
    "percent_nan[percent_nan<1]"
   ]
  },
  {
   "cell_type": "code",
   "execution_count": 47,
   "id": "b5e2fd56",
   "metadata": {},
   "outputs": [
    {
     "data": {
      "text/plain": [
       "1341   NaN\n",
       "Name: Total Bsmt SF, dtype: float64"
      ]
     },
     "execution_count": 47,
     "metadata": {},
     "output_type": "execute_result"
    }
   ],
   "source": [
    "df1[df1['Bsmt Unf SF'].isnull()]['Total Bsmt SF']"
   ]
  },
  {
   "cell_type": "markdown",
   "id": "ba25238d",
   "metadata": {},
   "source": [
    "from domain knowledge, basement SF(square footage) is 0   \n",
    "basement quality, cond... is none   \n",
    "If there is no data there   \n",
    "Needed to use .txt file for the description.   "
   ]
  },
  {
   "cell_type": "code",
   "execution_count": 48,
   "id": "793240d3",
   "metadata": {},
   "outputs": [],
   "source": [
    "# bsmt numeric columns --> fillna 0\n",
    "bsmt_num_cols = ['BsmtFin SF 1', 'BsmtFin SF 2', 'Bsmt Unf SF','Total Bsmt SF', 'Bsmt Full Bath', 'Bsmt Half Bath']\n",
    "df1[bsmt_num_cols] = df1[bsmt_num_cols].fillna(0)\n",
    "\n",
    "#bsmt string columns --> fill 'none'\n",
    "bsmt_str_cols = ['Bsmt Qual', 'Bsmt Cond', 'Bsmt Exposure', 'BsmtFin Type 1', 'BsmtFin Type 2']\n",
    "df1[bsmt_str_cols] = df1[bsmt_str_cols].fillna('None')"
   ]
  },
  {
   "cell_type": "code",
   "execution_count": 49,
   "id": "c0aff411",
   "metadata": {},
   "outputs": [
    {
     "data": {
      "text/html": [
       "<div>\n",
       "<style scoped>\n",
       "    .dataframe tbody tr th:only-of-type {\n",
       "        vertical-align: middle;\n",
       "    }\n",
       "\n",
       "    .dataframe tbody tr th {\n",
       "        vertical-align: top;\n",
       "    }\n",
       "\n",
       "    .dataframe thead th {\n",
       "        text-align: right;\n",
       "    }\n",
       "</style>\n",
       "<table border=\"1\" class=\"dataframe\">\n",
       "  <thead>\n",
       "    <tr style=\"text-align: right;\">\n",
       "      <th></th>\n",
       "      <th>Unnamed: 0</th>\n",
       "      <th>MS SubClass</th>\n",
       "      <th>MS Zoning</th>\n",
       "      <th>Lot Frontage</th>\n",
       "      <th>Lot Area</th>\n",
       "      <th>Street</th>\n",
       "      <th>Alley</th>\n",
       "      <th>Lot Shape</th>\n",
       "      <th>Land Contour</th>\n",
       "      <th>Utilities</th>\n",
       "      <th>...</th>\n",
       "      <th>Pool Area</th>\n",
       "      <th>Pool QC</th>\n",
       "      <th>Fence</th>\n",
       "      <th>Misc Feature</th>\n",
       "      <th>Misc Val</th>\n",
       "      <th>Mo Sold</th>\n",
       "      <th>Yr Sold</th>\n",
       "      <th>Sale Type</th>\n",
       "      <th>Sale Condition</th>\n",
       "      <th>SalePrice</th>\n",
       "    </tr>\n",
       "  </thead>\n",
       "  <tbody>\n",
       "  </tbody>\n",
       "</table>\n",
       "<p>0 rows × 81 columns</p>\n",
       "</div>"
      ],
      "text/plain": [
       "Empty DataFrame\n",
       "Columns: [Unnamed: 0, MS SubClass, MS Zoning, Lot Frontage, Lot Area, Street, Alley, Lot Shape, Land Contour, Utilities, Lot Config, Land Slope, Neighborhood, Condition 1, Condition 2, Bldg Type, House Style, Overall Qual, Overall Cond, Year Built, Year Remod/Add, Roof Style, Roof Matl, Exterior 1st, Exterior 2nd, Mas Vnr Type, Mas Vnr Area, Exter Qual, Exter Cond, Foundation, Bsmt Qual, Bsmt Cond, Bsmt Exposure, BsmtFin Type 1, BsmtFin SF 1, BsmtFin Type 2, BsmtFin SF 2, Bsmt Unf SF, Total Bsmt SF, Heating, Heating QC, Central Air, Electrical, 1st Flr SF, 2nd Flr SF, Low Qual Fin SF, Gr Liv Area, Bsmt Full Bath, Bsmt Half Bath, Full Bath, Half Bath, Bedroom AbvGr, Kitchen AbvGr, Kitchen Qual, TotRms AbvGrd, Functional, Fireplaces, Fireplace Qu, Garage Type, Garage Yr Blt, Garage Finish, Garage Cars, Garage Area, Garage Qual, Garage Cond, Paved Drive, Wood Deck SF, Open Porch SF, Enclosed Porch, 3Ssn Porch, Screen Porch, Pool Area, Pool QC, Fence, Misc Feature, Misc Val, Mo Sold, Yr Sold, Sale Type, Sale Condition, SalePrice]\n",
       "Index: []\n",
       "\n",
       "[0 rows x 81 columns]"
      ]
     },
     "execution_count": 49,
     "metadata": {},
     "output_type": "execute_result"
    }
   ],
   "source": [
    "df1[df1['Bsmt Unf SF'].isnull()]"
   ]
  },
  {
   "cell_type": "code",
   "execution_count": 50,
   "id": "77e0ed50",
   "metadata": {},
   "outputs": [
    {
     "data": {
      "text/plain": [
       "Mas Vnr Type    0.786325\n",
       "Mas Vnr Area    0.786325\n",
       "dtype: float64"
      ]
     },
     "execution_count": 50,
     "metadata": {},
     "output_type": "execute_result"
    }
   ],
   "source": [
    "percent_nan = percent_missing(df1)\n",
    "percent_nan[percent_nan<1]"
   ]
  },
  {
   "cell_type": "code",
   "execution_count": 51,
   "id": "cef30b79",
   "metadata": {},
   "outputs": [],
   "source": [
    "df1['Mas Vnr Type'] = df1['Mas Vnr Type'].fillna('None')\n"
   ]
  },
  {
   "cell_type": "code",
   "execution_count": 52,
   "id": "e0e49cad",
   "metadata": {},
   "outputs": [],
   "source": [
    "df1['Mas Vnr Area'] = df1['Mas Vnr Area'].fillna(0)"
   ]
  },
  {
   "cell_type": "code",
   "execution_count": 53,
   "id": "b321c5cc",
   "metadata": {},
   "outputs": [],
   "source": [
    "percent_nan = percent_missing(df1)"
   ]
  },
  {
   "cell_type": "code",
   "execution_count": 54,
   "id": "75b79db0",
   "metadata": {},
   "outputs": [
    {
     "data": {
      "image/png": "[encoded data removed]",
      "text/plain": [
       "<Figure size 576x288 with 1 Axes>"
      ]
     },
     "metadata": {
      "needs_background": "light"
     },
     "output_type": "display_data"
    }
   ],
   "source": [
    "plt.figure(figsize=(8,4));\n",
    "sns.barplot(x=percent_nan.index,y=percent_nan)\n",
    "plt.xticks(rotation=90);\n",
    "plt.ylim(0,1);"
   ]
  },
  {
   "cell_type": "markdown",
   "id": "a3fc8ae4",
   "metadata": {},
   "source": [
    "Now, every columns has more than 1 percent of data missing.   "
   ]
  },
  {
   "cell_type": "code",
   "execution_count": 55,
   "id": "351367d9",
   "metadata": {},
   "outputs": [
    {
     "data": {
      "image/png": "[encoded data removed]",
      "text/plain": [
       "<Figure size 576x288 with 1 Axes>"
      ]
     },
     "metadata": {
      "needs_background": "light"
     },
     "output_type": "display_data"
    }
   ],
   "source": [
    "plt.figure(figsize=(8,4));\n",
    "sns.barplot(x=percent_nan.index,y=percent_nan)\n",
    "plt.xticks(rotation=90);\n"
   ]
  },
  {
   "cell_type": "markdown",
   "id": "102a2534",
   "metadata": {},
   "source": [
    "If we have 99% missing data, its good todrop those columns.   \n",
    "There can be a case where those dropped features are important, which we came to know later.   \n",
    "Then we can't change the model.  \n",
    "These cases may happen rarely. Those drop those columns."
   ]
  },
  {
   "cell_type": "markdown",
   "id": "e91e351c",
   "metadata": {},
   "source": [
    "For the case of features with 5-10% missing data, we need to fill appropriately.   \n",
    "filling is making up data, do it reasonably.   "
   ]
  },
  {
   "cell_type": "markdown",
   "id": "43227659",
   "metadata": {},
   "source": [
    "For easy cases, Nan, null can be zero.  \n",
    "For harder cases, need human intuition, Domain knowledge, Statiscal methods(mean, median, mode etc) to fill.   "
   ]
  },
  {
   "cell_type": "code",
   "execution_count": 56,
   "id": "9fec801a",
   "metadata": {},
   "outputs": [],
   "source": [
    "# Here, about the garage. If garage is not present, all abt garage are null or empty.\n",
    "gar_str_cols = ['Garage Type', 'Garage Finish', 'Garage Qual', 'Garage Cond']"
   ]
  },
  {
   "cell_type": "code",
   "execution_count": 57,
   "id": "754e83e7",
   "metadata": {},
   "outputs": [],
   "source": [
    "df1[gar_str_cols] = df1[gar_str_cols].fillna('None')"
   ]
  },
  {
   "cell_type": "code",
   "execution_count": 58,
   "id": "507aac30",
   "metadata": {},
   "outputs": [],
   "source": [
    "percent_nan = percent_missing(df1)"
   ]
  },
  {
   "cell_type": "code",
   "execution_count": 59,
   "id": "c5f49de1",
   "metadata": {},
   "outputs": [
    {
     "data": {
      "image/png": "[encoded data removed]",
      "text/plain": [
       "<Figure size 576x288 with 1 Axes>"
      ]
     },
     "metadata": {
      "needs_background": "light"
     },
     "output_type": "display_data"
    }
   ],
   "source": [
    "plt.figure(figsize=(8,4));\n",
    "sns.barplot(x=percent_nan.index,y=percent_nan)\n",
    "plt.xticks(rotation=90);"
   ]
  },
  {
   "cell_type": "code",
   "execution_count": 60,
   "id": "4a8c25a0",
   "metadata": {},
   "outputs": [],
   "source": [
    "# garage year null values filled as 0. Years are generally in 1950s++. Didn't understang logic properly.\n",
    "# 0 is way too away from mean so used 0 inplace of null.???\n",
    "df1['Garage Yr Blt'] = df1['Garage Yr Blt'].fillna(0)"
   ]
  },
  {
   "cell_type": "code",
   "execution_count": 61,
   "id": "eb02f4b6",
   "metadata": {},
   "outputs": [
    {
     "data": {
      "image/png": "[encoded data removed]",
      "text/plain": [
       "<Figure size 576x288 with 1 Axes>"
      ]
     },
     "metadata": {
      "needs_background": "light"
     },
     "output_type": "display_data"
    }
   ],
   "source": [
    "percent_nan = percent_missing(df1)\n",
    "\n",
    "plt.figure(figsize=(8,4));\n",
    "sns.barplot(x=percent_nan.index,y=percent_nan)\n",
    "plt.xticks(rotation=90);"
   ]
  },
  {
   "cell_type": "code",
   "execution_count": 62,
   "id": "2b79327a",
   "metadata": {},
   "outputs": [],
   "source": [
    "# few columns left\n",
    "#here drop Fence,alley, Misc Feature, Pool Qc - too much data missing\n",
    "df1 = df1.drop(['Fence','Alley','Misc Feature','Pool QC'],axis=1)"
   ]
  },
  {
   "cell_type": "code",
   "execution_count": 63,
   "id": "a8a8b266",
   "metadata": {},
   "outputs": [
    {
     "data": {
      "image/png": "[encoded data removed]",
      "text/plain": [
       "<Figure size 576x288 with 1 Axes>"
      ]
     },
     "metadata": {
      "needs_background": "light"
     },
     "output_type": "display_data"
    }
   ],
   "source": [
    "percent_nan = percent_missing(df1)\n",
    "\n",
    "plt.figure(figsize=(8,4));\n",
    "sns.barplot(x=percent_nan.index,y=percent_nan)\n",
    "plt.xticks(rotation=90);"
   ]
  },
  {
   "cell_type": "code",
   "execution_count": 64,
   "id": "9232aa3c",
   "metadata": {},
   "outputs": [
    {
     "data": {
      "text/plain": [
       "Gd    741\n",
       "TA    600\n",
       "Fa     75\n",
       "Po     46\n",
       "Ex     43\n",
       "Name: Fireplace Qu, dtype: int64"
      ]
     },
     "execution_count": 64,
     "metadata": {},
     "output_type": "execute_result"
    }
   ],
   "source": [
    "# now two features to left to solve\n",
    "# Need domain expert here - tricky- can't drop cols as they're not so empty - can't drop empty rows as they are many \n",
    "df1['Fireplace Qu'].value_counts()"
   ]
  },
  {
   "cell_type": "code",
   "execution_count": 65,
   "id": "f4e559b9",
   "metadata": {},
   "outputs": [],
   "source": [
    "#Fireplace quality - filled None if it isn't there\n",
    "df1['Fireplace Qu'] = df1['Fireplace Qu'].fillna(\"None\")"
   ]
  },
  {
   "cell_type": "code",
   "execution_count": 66,
   "id": "9f657eea",
   "metadata": {},
   "outputs": [
    {
     "data": {
      "text/plain": [
       "0       141.0\n",
       "1        80.0\n",
       "2        81.0\n",
       "3        93.0\n",
       "4        74.0\n",
       "        ...  \n",
       "2922     37.0\n",
       "2923      NaN\n",
       "2924     62.0\n",
       "2925     77.0\n",
       "2926     74.0\n",
       "Name: Lot Frontage, Length: 2925, dtype: float64"
      ]
     },
     "execution_count": 66,
     "metadata": {},
     "output_type": "execute_result"
    }
   ],
   "source": [
    "# Lot frontage is numeric\n",
    "df1['Lot Frontage']"
   ]
  },
  {
   "cell_type": "code",
   "execution_count": 67,
   "id": "8e2394bf",
   "metadata": {
    "scrolled": false
   },
   "outputs": [
    {
     "data": {
      "text/plain": [
       "<AxesSubplot:xlabel='Lot Frontage', ylabel='Neighborhood'>"
      ]
     },
     "execution_count": 67,
     "metadata": {},
     "output_type": "execute_result"
    },
    {
     "data": {
      "image/png": "[encoded data removed]",
      "text/plain": [
       "<Figure size 800x1200 with 1 Axes>"
      ]
     },
     "metadata": {
      "needs_background": "light"
     },
     "output_type": "display_data"
    }
   ],
   "source": [
    "# Neighborhood: Physical locations within Ames city limits\n",
    "# LotFrontage: Linear feet of street connected to property\n",
    "# these two are dependent as said by instructor (I am not aware of this) -- Need domain knwldge\n",
    "plt.figure(figsize=(8,12),dpi=100)\n",
    "sns.boxplot(x='Lot Frontage', y='Neighborhood', data=df1,orient='h')"
   ]
  },
  {
   "cell_type": "code",
   "execution_count": 68,
   "id": "a3d177a3",
   "metadata": {},
   "outputs": [],
   "source": [
    "#min 16:22"
   ]
  },
  {
   "cell_type": "code",
   "execution_count": 69,
   "id": "59603ecc",
   "metadata": {},
   "outputs": [
    {
     "data": {
      "text/plain": [
       "Neighborhood\n",
       "Blmngtn    46.900000\n",
       "Blueste    27.300000\n",
       "BrDale     21.500000\n",
       "BrkSide    55.789474\n",
       "ClearCr    88.150000\n",
       "CollgCr    71.336364\n",
       "Crawfor    69.951807\n",
       "Edwards    64.794286\n",
       "Gilbert    74.207207\n",
       "Greens     41.000000\n",
       "GrnHill          NaN\n",
       "IDOTRR     62.383721\n",
       "Landmrk          NaN\n",
       "MeadowV    25.606061\n",
       "Mitchel    75.144444\n",
       "NAmes      75.210667\n",
       "NPkVill    28.142857\n",
       "NWAmes     81.517647\n",
       "NoRidge    91.629630\n",
       "NridgHt    84.184049\n",
       "OldTown    61.777293\n",
       "SWISU      59.068182\n",
       "Sawyer     74.551020\n",
       "SawyerW    70.669811\n",
       "Somerst    64.549383\n",
       "StoneBr    62.173913\n",
       "Timber     81.303571\n",
       "Veenker    72.000000\n",
       "Name: Lot Frontage, dtype: float64"
      ]
     },
     "execution_count": 69,
     "metadata": {},
     "output_type": "execute_result"
    }
   ],
   "source": [
    "df1.groupby('Neighborhood')['Lot Frontage'].mean()"
   ]
  },
  {
   "cell_type": "code",
   "execution_count": null,
   "id": "84fb8325",
   "metadata": {},
   "outputs": [],
   "source": [
    "#If a neighborhood misses a particular Lot frontage in the row. \n",
    "#Use the mean of that neighborhood and put in missing Lot Frontage.\n",
    "# we do by .transform()"
   ]
  },
  {
   "cell_type": "code",
   "execution_count": 72,
   "id": "da83742d",
   "metadata": {},
   "outputs": [
    {
     "data": {
      "text/plain": [
       "0       141.000000\n",
       "1        80.000000\n",
       "2        81.000000\n",
       "3        93.000000\n",
       "4        74.000000\n",
       "           ...    \n",
       "2922     37.000000\n",
       "2923     75.144444\n",
       "2924     62.000000\n",
       "2925     77.000000\n",
       "2926     74.000000\n",
       "Name: Lot Frontage, Length: 2925, dtype: float64"
      ]
     },
     "execution_count": 72,
     "metadata": {},
     "output_type": "execute_result"
    }
   ],
   "source": [
    "df1.groupby('Neighborhood')['Lot Frontage'].transform(lambda value:value.fillna(value.mean()))"
   ]
  },
  {
   "cell_type": "code",
   "execution_count": 74,
   "id": "2c531f6c",
   "metadata": {},
   "outputs": [],
   "source": [
    "#There are some missing values in Lot Frontage (grouped by Neighborhood), \n",
    "#use the mean of Lot Frontage of that group and fill it.\n",
    "df1['Lot Frontage'] = df1.groupby('Neighborhood')['Lot Frontage'].transform(lambda value:value.fillna(value.mean()))"
   ]
  },
  {
   "cell_type": "code",
   "execution_count": 75,
   "id": "54f156cd",
   "metadata": {},
   "outputs": [
    {
     "data": {
      "text/plain": [
       "Unnamed: 0        0\n",
       "MS SubClass       0\n",
       "MS Zoning         0\n",
       "Lot Frontage      3\n",
       "Lot Area          0\n",
       "                 ..\n",
       "Mo Sold           0\n",
       "Yr Sold           0\n",
       "Sale Type         0\n",
       "Sale Condition    0\n",
       "SalePrice         0\n",
       "Length: 77, dtype: int64"
      ]
     },
     "execution_count": 75,
     "metadata": {},
     "output_type": "execute_result"
    }
   ],
   "source": [
    "df1.isnull().sum()"
   ]
  },
  {
   "cell_type": "code",
   "execution_count": 76,
   "id": "4bfbcf63",
   "metadata": {},
   "outputs": [],
   "source": [
    "# 3 missing values because there are NAN when grouped, can't find mean.\n",
    "#remove those rows or put as zeroes -- Need Domain Knwldge\n",
    "df1['Lot Frontage'] = df1['Lot Frontage'].fillna(0)"
   ]
  },
  {
   "cell_type": "code",
   "execution_count": 77,
   "id": "8ec00e8f",
   "metadata": {},
   "outputs": [
    {
     "data": {
      "text/plain": [
       "Unnamed: 0        0\n",
       "MS SubClass       0\n",
       "MS Zoning         0\n",
       "Lot Frontage      0\n",
       "Lot Area          0\n",
       "                 ..\n",
       "Mo Sold           0\n",
       "Yr Sold           0\n",
       "Sale Type         0\n",
       "Sale Condition    0\n",
       "SalePrice         0\n",
       "Length: 77, dtype: int64"
      ]
     },
     "execution_count": 77,
     "metadata": {},
     "output_type": "execute_result"
    }
   ],
   "source": [
    "df1.isnull().sum()"
   ]
  },
  {
   "cell_type": "code",
   "execution_count": 79,
   "id": "e0c334d4",
   "metadata": {},
   "outputs": [],
   "source": [
    "#percent_nan = percent_missing(df1)\n",
    "\n",
    "#plt.figure(figsize=(8,4));\n",
    "#sns.barplot(x=percent_nan.index,y=percent_nan)\n",
    "#plt.xticks(rotation=90);\n",
    "\n",
    "#ValueError: min() arg is an empty sequence -- no missing data"
   ]
  },
  {
   "cell_type": "code",
   "execution_count": 80,
   "id": "adc8299b",
   "metadata": {},
   "outputs": [],
   "source": [
    "#storing as csv\n",
    "df1.to_csv('Ames_NO_missing_data.csv')"
   ]
  },
  {
   "cell_type": "markdown",
   "id": "26003c16",
   "metadata": {},
   "source": [
    "## Dealing with categorical data\n",
    "one hot encoding   \n",
    "integer encoding"
   ]
  },
  {
   "cell_type": "markdown",
   "id": "d0dee5be",
   "metadata": {},
   "source": [
    "we have ordinal data like -- Overall Qual where 10 is better than 9,  better than 8-- a ranking."
   ]
  },
  {
   "cell_type": "markdown",
   "id": "9e5d19a1",
   "metadata": {},
   "source": [
    "BUT for example: MSSubClass (is not ordinal), the numbers are not ranking."
   ]
  },
  {
   "cell_type": "code",
   "execution_count": 84,
   "id": "9785d741",
   "metadata": {},
   "outputs": [],
   "source": [
    "#MS Subclass is numeric, converting into str\n",
    "df1['MS SubClass'] = df1['MS SubClass'].apply(str)"
   ]
  },
  {
   "cell_type": "markdown",
   "id": "7fd10fe9",
   "metadata": {},
   "source": [
    "----"
   ]
  },
  {
   "cell_type": "markdown",
   "id": "771df2f0",
   "metadata": {},
   "source": [
    "### Example"
   ]
  },
  {
   "cell_type": "code",
   "execution_count": 85,
   "id": "7735a675",
   "metadata": {},
   "outputs": [
    {
     "data": {
      "text/plain": [
       "0      Up\n",
       "1      Up\n",
       "2    Down\n",
       "dtype: object"
      ]
     },
     "execution_count": 85,
     "metadata": {},
     "output_type": "execute_result"
    }
   ],
   "source": [
    "direction = pd.Series(['Up','Up','Down'])\n",
    "direction"
   ]
  },
  {
   "cell_type": "code",
   "execution_count": 86,
   "id": "bff3f14a",
   "metadata": {},
   "outputs": [
    {
     "data": {
      "text/html": [
       "<div>\n",
       "<style scoped>\n",
       "    .dataframe tbody tr th:only-of-type {\n",
       "        vertical-align: middle;\n",
       "    }\n",
       "\n",
       "    .dataframe tbody tr th {\n",
       "        vertical-align: top;\n",
       "    }\n",
       "\n",
       "    .dataframe thead th {\n",
       "        text-align: right;\n",
       "    }\n",
       "</style>\n",
       "<table border=\"1\" class=\"dataframe\">\n",
       "  <thead>\n",
       "    <tr style=\"text-align: right;\">\n",
       "      <th></th>\n",
       "      <th>Down</th>\n",
       "      <th>Up</th>\n",
       "    </tr>\n",
       "  </thead>\n",
       "  <tbody>\n",
       "    <tr>\n",
       "      <th>0</th>\n",
       "      <td>0</td>\n",
       "      <td>1</td>\n",
       "    </tr>\n",
       "    <tr>\n",
       "      <th>1</th>\n",
       "      <td>0</td>\n",
       "      <td>1</td>\n",
       "    </tr>\n",
       "    <tr>\n",
       "      <th>2</th>\n",
       "      <td>1</td>\n",
       "      <td>0</td>\n",
       "    </tr>\n",
       "  </tbody>\n",
       "</table>\n",
       "</div>"
      ],
      "text/plain": [
       "   Down  Up\n",
       "0     0   1\n",
       "1     0   1\n",
       "2     1   0"
      ]
     },
     "execution_count": 86,
     "metadata": {},
     "output_type": "execute_result"
    }
   ],
   "source": [
    "pd.get_dummies(direction) #we get a column which is redundat, (n-1)columns are sufficient"
   ]
  },
  {
   "cell_type": "code",
   "execution_count": 87,
   "id": "fdb2042a",
   "metadata": {},
   "outputs": [
    {
     "data": {
      "text/html": [
       "<div>\n",
       "<style scoped>\n",
       "    .dataframe tbody tr th:only-of-type {\n",
       "        vertical-align: middle;\n",
       "    }\n",
       "\n",
       "    .dataframe tbody tr th {\n",
       "        vertical-align: top;\n",
       "    }\n",
       "\n",
       "    .dataframe thead th {\n",
       "        text-align: right;\n",
       "    }\n",
       "</style>\n",
       "<table border=\"1\" class=\"dataframe\">\n",
       "  <thead>\n",
       "    <tr style=\"text-align: right;\">\n",
       "      <th></th>\n",
       "      <th>Up</th>\n",
       "    </tr>\n",
       "  </thead>\n",
       "  <tbody>\n",
       "    <tr>\n",
       "      <th>0</th>\n",
       "      <td>1</td>\n",
       "    </tr>\n",
       "    <tr>\n",
       "      <th>1</th>\n",
       "      <td>1</td>\n",
       "    </tr>\n",
       "    <tr>\n",
       "      <th>2</th>\n",
       "      <td>0</td>\n",
       "    </tr>\n",
       "  </tbody>\n",
       "</table>\n",
       "</div>"
      ],
      "text/plain": [
       "   Up\n",
       "0   1\n",
       "1   1\n",
       "2   0"
      ]
     },
     "execution_count": 87,
     "metadata": {},
     "output_type": "execute_result"
    }
   ],
   "source": [
    "pd.get_dummies(direction, drop_first=True)"
   ]
  },
  {
   "cell_type": "markdown",
   "id": "e4518d14",
   "metadata": {},
   "source": [
    "-----"
   ]
  },
  {
   "cell_type": "code",
   "execution_count": 88,
   "id": "37264017",
   "metadata": {},
   "outputs": [
    {
     "data": {
      "text/html": [
       "<div>\n",
       "<style scoped>\n",
       "    .dataframe tbody tr th:only-of-type {\n",
       "        vertical-align: middle;\n",
       "    }\n",
       "\n",
       "    .dataframe tbody tr th {\n",
       "        vertical-align: top;\n",
       "    }\n",
       "\n",
       "    .dataframe thead th {\n",
       "        text-align: right;\n",
       "    }\n",
       "</style>\n",
       "<table border=\"1\" class=\"dataframe\">\n",
       "  <thead>\n",
       "    <tr style=\"text-align: right;\">\n",
       "      <th></th>\n",
       "      <th>MS SubClass</th>\n",
       "      <th>MS Zoning</th>\n",
       "      <th>Street</th>\n",
       "      <th>Lot Shape</th>\n",
       "      <th>Land Contour</th>\n",
       "      <th>Utilities</th>\n",
       "      <th>Lot Config</th>\n",
       "      <th>Land Slope</th>\n",
       "      <th>Neighborhood</th>\n",
       "      <th>Condition 1</th>\n",
       "      <th>...</th>\n",
       "      <th>Kitchen Qual</th>\n",
       "      <th>Functional</th>\n",
       "      <th>Fireplace Qu</th>\n",
       "      <th>Garage Type</th>\n",
       "      <th>Garage Finish</th>\n",
       "      <th>Garage Qual</th>\n",
       "      <th>Garage Cond</th>\n",
       "      <th>Paved Drive</th>\n",
       "      <th>Sale Type</th>\n",
       "      <th>Sale Condition</th>\n",
       "    </tr>\n",
       "  </thead>\n",
       "  <tbody>\n",
       "    <tr>\n",
       "      <th>0</th>\n",
       "      <td>20</td>\n",
       "      <td>RL</td>\n",
       "      <td>Pave</td>\n",
       "      <td>IR1</td>\n",
       "      <td>Lvl</td>\n",
       "      <td>AllPub</td>\n",
       "      <td>Corner</td>\n",
       "      <td>Gtl</td>\n",
       "      <td>NAmes</td>\n",
       "      <td>Norm</td>\n",
       "      <td>...</td>\n",
       "      <td>TA</td>\n",
       "      <td>Typ</td>\n",
       "      <td>Gd</td>\n",
       "      <td>Attchd</td>\n",
       "      <td>Fin</td>\n",
       "      <td>TA</td>\n",
       "      <td>TA</td>\n",
       "      <td>P</td>\n",
       "      <td>WD</td>\n",
       "      <td>Normal</td>\n",
       "    </tr>\n",
       "    <tr>\n",
       "      <th>1</th>\n",
       "      <td>20</td>\n",
       "      <td>RH</td>\n",
       "      <td>Pave</td>\n",
       "      <td>Reg</td>\n",
       "      <td>Lvl</td>\n",
       "      <td>AllPub</td>\n",
       "      <td>Inside</td>\n",
       "      <td>Gtl</td>\n",
       "      <td>NAmes</td>\n",
       "      <td>Feedr</td>\n",
       "      <td>...</td>\n",
       "      <td>TA</td>\n",
       "      <td>Typ</td>\n",
       "      <td>None</td>\n",
       "      <td>Attchd</td>\n",
       "      <td>Unf</td>\n",
       "      <td>TA</td>\n",
       "      <td>TA</td>\n",
       "      <td>Y</td>\n",
       "      <td>WD</td>\n",
       "      <td>Normal</td>\n",
       "    </tr>\n",
       "    <tr>\n",
       "      <th>2</th>\n",
       "      <td>20</td>\n",
       "      <td>RL</td>\n",
       "      <td>Pave</td>\n",
       "      <td>IR1</td>\n",
       "      <td>Lvl</td>\n",
       "      <td>AllPub</td>\n",
       "      <td>Corner</td>\n",
       "      <td>Gtl</td>\n",
       "      <td>NAmes</td>\n",
       "      <td>Norm</td>\n",
       "      <td>...</td>\n",
       "      <td>Gd</td>\n",
       "      <td>Typ</td>\n",
       "      <td>None</td>\n",
       "      <td>Attchd</td>\n",
       "      <td>Unf</td>\n",
       "      <td>TA</td>\n",
       "      <td>TA</td>\n",
       "      <td>Y</td>\n",
       "      <td>WD</td>\n",
       "      <td>Normal</td>\n",
       "    </tr>\n",
       "    <tr>\n",
       "      <th>3</th>\n",
       "      <td>20</td>\n",
       "      <td>RL</td>\n",
       "      <td>Pave</td>\n",
       "      <td>Reg</td>\n",
       "      <td>Lvl</td>\n",
       "      <td>AllPub</td>\n",
       "      <td>Corner</td>\n",
       "      <td>Gtl</td>\n",
       "      <td>NAmes</td>\n",
       "      <td>Norm</td>\n",
       "      <td>...</td>\n",
       "      <td>Ex</td>\n",
       "      <td>Typ</td>\n",
       "      <td>TA</td>\n",
       "      <td>Attchd</td>\n",
       "      <td>Fin</td>\n",
       "      <td>TA</td>\n",
       "      <td>TA</td>\n",
       "      <td>Y</td>\n",
       "      <td>WD</td>\n",
       "      <td>Normal</td>\n",
       "    </tr>\n",
       "    <tr>\n",
       "      <th>4</th>\n",
       "      <td>60</td>\n",
       "      <td>RL</td>\n",
       "      <td>Pave</td>\n",
       "      <td>IR1</td>\n",
       "      <td>Lvl</td>\n",
       "      <td>AllPub</td>\n",
       "      <td>Inside</td>\n",
       "      <td>Gtl</td>\n",
       "      <td>Gilbert</td>\n",
       "      <td>Norm</td>\n",
       "      <td>...</td>\n",
       "      <td>TA</td>\n",
       "      <td>Typ</td>\n",
       "      <td>TA</td>\n",
       "      <td>Attchd</td>\n",
       "      <td>Fin</td>\n",
       "      <td>TA</td>\n",
       "      <td>TA</td>\n",
       "      <td>Y</td>\n",
       "      <td>WD</td>\n",
       "      <td>Normal</td>\n",
       "    </tr>\n",
       "    <tr>\n",
       "      <th>...</th>\n",
       "      <td>...</td>\n",
       "      <td>...</td>\n",
       "      <td>...</td>\n",
       "      <td>...</td>\n",
       "      <td>...</td>\n",
       "      <td>...</td>\n",
       "      <td>...</td>\n",
       "      <td>...</td>\n",
       "      <td>...</td>\n",
       "      <td>...</td>\n",
       "      <td>...</td>\n",
       "      <td>...</td>\n",
       "      <td>...</td>\n",
       "      <td>...</td>\n",
       "      <td>...</td>\n",
       "      <td>...</td>\n",
       "      <td>...</td>\n",
       "      <td>...</td>\n",
       "      <td>...</td>\n",
       "      <td>...</td>\n",
       "      <td>...</td>\n",
       "    </tr>\n",
       "    <tr>\n",
       "      <th>2922</th>\n",
       "      <td>80</td>\n",
       "      <td>RL</td>\n",
       "      <td>Pave</td>\n",
       "      <td>IR1</td>\n",
       "      <td>Lvl</td>\n",
       "      <td>AllPub</td>\n",
       "      <td>CulDSac</td>\n",
       "      <td>Gtl</td>\n",
       "      <td>Mitchel</td>\n",
       "      <td>Norm</td>\n",
       "      <td>...</td>\n",
       "      <td>TA</td>\n",
       "      <td>Typ</td>\n",
       "      <td>None</td>\n",
       "      <td>Detchd</td>\n",
       "      <td>Unf</td>\n",
       "      <td>TA</td>\n",
       "      <td>TA</td>\n",
       "      <td>Y</td>\n",
       "      <td>WD</td>\n",
       "      <td>Normal</td>\n",
       "    </tr>\n",
       "    <tr>\n",
       "      <th>2923</th>\n",
       "      <td>20</td>\n",
       "      <td>RL</td>\n",
       "      <td>Pave</td>\n",
       "      <td>IR1</td>\n",
       "      <td>Low</td>\n",
       "      <td>AllPub</td>\n",
       "      <td>Inside</td>\n",
       "      <td>Mod</td>\n",
       "      <td>Mitchel</td>\n",
       "      <td>Norm</td>\n",
       "      <td>...</td>\n",
       "      <td>TA</td>\n",
       "      <td>Typ</td>\n",
       "      <td>None</td>\n",
       "      <td>Attchd</td>\n",
       "      <td>Unf</td>\n",
       "      <td>TA</td>\n",
       "      <td>TA</td>\n",
       "      <td>Y</td>\n",
       "      <td>WD</td>\n",
       "      <td>Normal</td>\n",
       "    </tr>\n",
       "    <tr>\n",
       "      <th>2924</th>\n",
       "      <td>85</td>\n",
       "      <td>RL</td>\n",
       "      <td>Pave</td>\n",
       "      <td>Reg</td>\n",
       "      <td>Lvl</td>\n",
       "      <td>AllPub</td>\n",
       "      <td>Inside</td>\n",
       "      <td>Gtl</td>\n",
       "      <td>Mitchel</td>\n",
       "      <td>Norm</td>\n",
       "      <td>...</td>\n",
       "      <td>TA</td>\n",
       "      <td>Typ</td>\n",
       "      <td>None</td>\n",
       "      <td>None</td>\n",
       "      <td>None</td>\n",
       "      <td>None</td>\n",
       "      <td>None</td>\n",
       "      <td>Y</td>\n",
       "      <td>WD</td>\n",
       "      <td>Normal</td>\n",
       "    </tr>\n",
       "    <tr>\n",
       "      <th>2925</th>\n",
       "      <td>20</td>\n",
       "      <td>RL</td>\n",
       "      <td>Pave</td>\n",
       "      <td>Reg</td>\n",
       "      <td>Lvl</td>\n",
       "      <td>AllPub</td>\n",
       "      <td>Inside</td>\n",
       "      <td>Mod</td>\n",
       "      <td>Mitchel</td>\n",
       "      <td>Norm</td>\n",
       "      <td>...</td>\n",
       "      <td>TA</td>\n",
       "      <td>Typ</td>\n",
       "      <td>TA</td>\n",
       "      <td>Attchd</td>\n",
       "      <td>RFn</td>\n",
       "      <td>TA</td>\n",
       "      <td>TA</td>\n",
       "      <td>Y</td>\n",
       "      <td>WD</td>\n",
       "      <td>Normal</td>\n",
       "    </tr>\n",
       "    <tr>\n",
       "      <th>2926</th>\n",
       "      <td>60</td>\n",
       "      <td>RL</td>\n",
       "      <td>Pave</td>\n",
       "      <td>Reg</td>\n",
       "      <td>Lvl</td>\n",
       "      <td>AllPub</td>\n",
       "      <td>Inside</td>\n",
       "      <td>Mod</td>\n",
       "      <td>Mitchel</td>\n",
       "      <td>Norm</td>\n",
       "      <td>...</td>\n",
       "      <td>TA</td>\n",
       "      <td>Typ</td>\n",
       "      <td>TA</td>\n",
       "      <td>Attchd</td>\n",
       "      <td>Fin</td>\n",
       "      <td>TA</td>\n",
       "      <td>TA</td>\n",
       "      <td>Y</td>\n",
       "      <td>WD</td>\n",
       "      <td>Normal</td>\n",
       "    </tr>\n",
       "  </tbody>\n",
       "</table>\n",
       "<p>2925 rows × 40 columns</p>\n",
       "</div>"
      ],
      "text/plain": [
       "     MS SubClass MS Zoning Street Lot Shape Land Contour Utilities Lot Config  \\\n",
       "0             20        RL   Pave       IR1          Lvl    AllPub     Corner   \n",
       "1             20        RH   Pave       Reg          Lvl    AllPub     Inside   \n",
       "2             20        RL   Pave       IR1          Lvl    AllPub     Corner   \n",
       "3             20        RL   Pave       Reg          Lvl    AllPub     Corner   \n",
       "4             60        RL   Pave       IR1          Lvl    AllPub     Inside   \n",
       "...          ...       ...    ...       ...          ...       ...        ...   \n",
       "2922          80        RL   Pave       IR1          Lvl    AllPub    CulDSac   \n",
       "2923          20        RL   Pave       IR1          Low    AllPub     Inside   \n",
       "2924          85        RL   Pave       Reg          Lvl    AllPub     Inside   \n",
       "2925          20        RL   Pave       Reg          Lvl    AllPub     Inside   \n",
       "2926          60        RL   Pave       Reg          Lvl    AllPub     Inside   \n",
       "\n",
       "     Land Slope Neighborhood Condition 1  ... Kitchen Qual Functional  \\\n",
       "0           Gtl        NAmes        Norm  ...           TA        Typ   \n",
       "1           Gtl        NAmes       Feedr  ...           TA        Typ   \n",
       "2           Gtl        NAmes        Norm  ...           Gd        Typ   \n",
       "3           Gtl        NAmes        Norm  ...           Ex        Typ   \n",
       "4           Gtl      Gilbert        Norm  ...           TA        Typ   \n",
       "...         ...          ...         ...  ...          ...        ...   \n",
       "2922        Gtl      Mitchel        Norm  ...           TA        Typ   \n",
       "2923        Mod      Mitchel        Norm  ...           TA        Typ   \n",
       "2924        Gtl      Mitchel        Norm  ...           TA        Typ   \n",
       "2925        Mod      Mitchel        Norm  ...           TA        Typ   \n",
       "2926        Mod      Mitchel        Norm  ...           TA        Typ   \n",
       "\n",
       "     Fireplace Qu Garage Type Garage Finish Garage Qual Garage Cond  \\\n",
       "0              Gd      Attchd           Fin          TA          TA   \n",
       "1            None      Attchd           Unf          TA          TA   \n",
       "2            None      Attchd           Unf          TA          TA   \n",
       "3              TA      Attchd           Fin          TA          TA   \n",
       "4              TA      Attchd           Fin          TA          TA   \n",
       "...           ...         ...           ...         ...         ...   \n",
       "2922         None      Detchd           Unf          TA          TA   \n",
       "2923         None      Attchd           Unf          TA          TA   \n",
       "2924         None        None          None        None        None   \n",
       "2925           TA      Attchd           RFn          TA          TA   \n",
       "2926           TA      Attchd           Fin          TA          TA   \n",
       "\n",
       "     Paved Drive Sale Type Sale Condition  \n",
       "0              P       WD          Normal  \n",
       "1              Y       WD          Normal  \n",
       "2              Y       WD          Normal  \n",
       "3              Y       WD          Normal  \n",
       "4              Y       WD          Normal  \n",
       "...          ...       ...            ...  \n",
       "2922           Y       WD          Normal  \n",
       "2923           Y       WD          Normal  \n",
       "2924           Y       WD          Normal  \n",
       "2925           Y       WD          Normal  \n",
       "2926           Y       WD          Normal  \n",
       "\n",
       "[2925 rows x 40 columns]"
      ]
     },
     "execution_count": 88,
     "metadata": {},
     "output_type": "execute_result"
    }
   ],
   "source": [
    "# to get columns which are datatype=object\n",
    "df1.select_dtypes(include='object')"
   ]
  },
  {
   "cell_type": "code",
   "execution_count": 90,
   "id": "197d6723",
   "metadata": {},
   "outputs": [],
   "source": [
    "#df1.info()"
   ]
  },
  {
   "cell_type": "code",
   "execution_count": 93,
   "id": "1682b492",
   "metadata": {},
   "outputs": [
    {
     "data": {
      "text/html": [
       "<div>\n",
       "<style scoped>\n",
       "    .dataframe tbody tr th:only-of-type {\n",
       "        vertical-align: middle;\n",
       "    }\n",
       "\n",
       "    .dataframe tbody tr th {\n",
       "        vertical-align: top;\n",
       "    }\n",
       "\n",
       "    .dataframe thead th {\n",
       "        text-align: right;\n",
       "    }\n",
       "</style>\n",
       "<table border=\"1\" class=\"dataframe\">\n",
       "  <thead>\n",
       "    <tr style=\"text-align: right;\">\n",
       "      <th></th>\n",
       "      <th>MS SubClass</th>\n",
       "      <th>MS Zoning</th>\n",
       "      <th>Street</th>\n",
       "      <th>Lot Shape</th>\n",
       "      <th>Land Contour</th>\n",
       "      <th>Utilities</th>\n",
       "      <th>Lot Config</th>\n",
       "      <th>Land Slope</th>\n",
       "      <th>Neighborhood</th>\n",
       "      <th>Condition 1</th>\n",
       "      <th>...</th>\n",
       "      <th>Kitchen Qual</th>\n",
       "      <th>Functional</th>\n",
       "      <th>Fireplace Qu</th>\n",
       "      <th>Garage Type</th>\n",
       "      <th>Garage Finish</th>\n",
       "      <th>Garage Qual</th>\n",
       "      <th>Garage Cond</th>\n",
       "      <th>Paved Drive</th>\n",
       "      <th>Sale Type</th>\n",
       "      <th>Sale Condition</th>\n",
       "    </tr>\n",
       "  </thead>\n",
       "  <tbody>\n",
       "    <tr>\n",
       "      <th>0</th>\n",
       "      <td>20</td>\n",
       "      <td>RL</td>\n",
       "      <td>Pave</td>\n",
       "      <td>IR1</td>\n",
       "      <td>Lvl</td>\n",
       "      <td>AllPub</td>\n",
       "      <td>Corner</td>\n",
       "      <td>Gtl</td>\n",
       "      <td>NAmes</td>\n",
       "      <td>Norm</td>\n",
       "      <td>...</td>\n",
       "      <td>TA</td>\n",
       "      <td>Typ</td>\n",
       "      <td>Gd</td>\n",
       "      <td>Attchd</td>\n",
       "      <td>Fin</td>\n",
       "      <td>TA</td>\n",
       "      <td>TA</td>\n",
       "      <td>P</td>\n",
       "      <td>WD</td>\n",
       "      <td>Normal</td>\n",
       "    </tr>\n",
       "    <tr>\n",
       "      <th>1</th>\n",
       "      <td>20</td>\n",
       "      <td>RH</td>\n",
       "      <td>Pave</td>\n",
       "      <td>Reg</td>\n",
       "      <td>Lvl</td>\n",
       "      <td>AllPub</td>\n",
       "      <td>Inside</td>\n",
       "      <td>Gtl</td>\n",
       "      <td>NAmes</td>\n",
       "      <td>Feedr</td>\n",
       "      <td>...</td>\n",
       "      <td>TA</td>\n",
       "      <td>Typ</td>\n",
       "      <td>None</td>\n",
       "      <td>Attchd</td>\n",
       "      <td>Unf</td>\n",
       "      <td>TA</td>\n",
       "      <td>TA</td>\n",
       "      <td>Y</td>\n",
       "      <td>WD</td>\n",
       "      <td>Normal</td>\n",
       "    </tr>\n",
       "    <tr>\n",
       "      <th>2</th>\n",
       "      <td>20</td>\n",
       "      <td>RL</td>\n",
       "      <td>Pave</td>\n",
       "      <td>IR1</td>\n",
       "      <td>Lvl</td>\n",
       "      <td>AllPub</td>\n",
       "      <td>Corner</td>\n",
       "      <td>Gtl</td>\n",
       "      <td>NAmes</td>\n",
       "      <td>Norm</td>\n",
       "      <td>...</td>\n",
       "      <td>Gd</td>\n",
       "      <td>Typ</td>\n",
       "      <td>None</td>\n",
       "      <td>Attchd</td>\n",
       "      <td>Unf</td>\n",
       "      <td>TA</td>\n",
       "      <td>TA</td>\n",
       "      <td>Y</td>\n",
       "      <td>WD</td>\n",
       "      <td>Normal</td>\n",
       "    </tr>\n",
       "    <tr>\n",
       "      <th>3</th>\n",
       "      <td>20</td>\n",
       "      <td>RL</td>\n",
       "      <td>Pave</td>\n",
       "      <td>Reg</td>\n",
       "      <td>Lvl</td>\n",
       "      <td>AllPub</td>\n",
       "      <td>Corner</td>\n",
       "      <td>Gtl</td>\n",
       "      <td>NAmes</td>\n",
       "      <td>Norm</td>\n",
       "      <td>...</td>\n",
       "      <td>Ex</td>\n",
       "      <td>Typ</td>\n",
       "      <td>TA</td>\n",
       "      <td>Attchd</td>\n",
       "      <td>Fin</td>\n",
       "      <td>TA</td>\n",
       "      <td>TA</td>\n",
       "      <td>Y</td>\n",
       "      <td>WD</td>\n",
       "      <td>Normal</td>\n",
       "    </tr>\n",
       "    <tr>\n",
       "      <th>4</th>\n",
       "      <td>60</td>\n",
       "      <td>RL</td>\n",
       "      <td>Pave</td>\n",
       "      <td>IR1</td>\n",
       "      <td>Lvl</td>\n",
       "      <td>AllPub</td>\n",
       "      <td>Inside</td>\n",
       "      <td>Gtl</td>\n",
       "      <td>Gilbert</td>\n",
       "      <td>Norm</td>\n",
       "      <td>...</td>\n",
       "      <td>TA</td>\n",
       "      <td>Typ</td>\n",
       "      <td>TA</td>\n",
       "      <td>Attchd</td>\n",
       "      <td>Fin</td>\n",
       "      <td>TA</td>\n",
       "      <td>TA</td>\n",
       "      <td>Y</td>\n",
       "      <td>WD</td>\n",
       "      <td>Normal</td>\n",
       "    </tr>\n",
       "  </tbody>\n",
       "</table>\n",
       "<p>5 rows × 40 columns</p>\n",
       "</div>"
      ],
      "text/plain": [
       "  MS SubClass MS Zoning Street Lot Shape Land Contour Utilities Lot Config  \\\n",
       "0          20        RL   Pave       IR1          Lvl    AllPub     Corner   \n",
       "1          20        RH   Pave       Reg          Lvl    AllPub     Inside   \n",
       "2          20        RL   Pave       IR1          Lvl    AllPub     Corner   \n",
       "3          20        RL   Pave       Reg          Lvl    AllPub     Corner   \n",
       "4          60        RL   Pave       IR1          Lvl    AllPub     Inside   \n",
       "\n",
       "  Land Slope Neighborhood Condition 1  ... Kitchen Qual Functional  \\\n",
       "0        Gtl        NAmes        Norm  ...           TA        Typ   \n",
       "1        Gtl        NAmes       Feedr  ...           TA        Typ   \n",
       "2        Gtl        NAmes        Norm  ...           Gd        Typ   \n",
       "3        Gtl        NAmes        Norm  ...           Ex        Typ   \n",
       "4        Gtl      Gilbert        Norm  ...           TA        Typ   \n",
       "\n",
       "  Fireplace Qu Garage Type Garage Finish Garage Qual Garage Cond Paved Drive  \\\n",
       "0           Gd      Attchd           Fin          TA          TA           P   \n",
       "1         None      Attchd           Unf          TA          TA           Y   \n",
       "2         None      Attchd           Unf          TA          TA           Y   \n",
       "3           TA      Attchd           Fin          TA          TA           Y   \n",
       "4           TA      Attchd           Fin          TA          TA           Y   \n",
       "\n",
       "  Sale Type Sale Condition  \n",
       "0       WD          Normal  \n",
       "1       WD          Normal  \n",
       "2       WD          Normal  \n",
       "3       WD          Normal  \n",
       "4       WD          Normal  \n",
       "\n",
       "[5 rows x 40 columns]"
      ]
     },
     "execution_count": 93,
     "metadata": {},
     "output_type": "execute_result"
    }
   ],
   "source": [
    "my_object_df = df1.select_dtypes(include='object')\n",
    "my_object_df.head()"
   ]
  },
  {
   "cell_type": "code",
   "execution_count": 94,
   "id": "cbb1093d",
   "metadata": {},
   "outputs": [
    {
     "data": {
      "text/html": [
       "<div>\n",
       "<style scoped>\n",
       "    .dataframe tbody tr th:only-of-type {\n",
       "        vertical-align: middle;\n",
       "    }\n",
       "\n",
       "    .dataframe tbody tr th {\n",
       "        vertical-align: top;\n",
       "    }\n",
       "\n",
       "    .dataframe thead th {\n",
       "        text-align: right;\n",
       "    }\n",
       "</style>\n",
       "<table border=\"1\" class=\"dataframe\">\n",
       "  <thead>\n",
       "    <tr style=\"text-align: right;\">\n",
       "      <th></th>\n",
       "      <th>Unnamed: 0</th>\n",
       "      <th>Lot Frontage</th>\n",
       "      <th>Lot Area</th>\n",
       "      <th>Overall Qual</th>\n",
       "      <th>Overall Cond</th>\n",
       "      <th>Year Built</th>\n",
       "      <th>Year Remod/Add</th>\n",
       "      <th>Mas Vnr Area</th>\n",
       "      <th>BsmtFin SF 1</th>\n",
       "      <th>BsmtFin SF 2</th>\n",
       "      <th>...</th>\n",
       "      <th>Wood Deck SF</th>\n",
       "      <th>Open Porch SF</th>\n",
       "      <th>Enclosed Porch</th>\n",
       "      <th>3Ssn Porch</th>\n",
       "      <th>Screen Porch</th>\n",
       "      <th>Pool Area</th>\n",
       "      <th>Misc Val</th>\n",
       "      <th>Mo Sold</th>\n",
       "      <th>Yr Sold</th>\n",
       "      <th>SalePrice</th>\n",
       "    </tr>\n",
       "  </thead>\n",
       "  <tbody>\n",
       "    <tr>\n",
       "      <th>0</th>\n",
       "      <td>0</td>\n",
       "      <td>141.0</td>\n",
       "      <td>31770</td>\n",
       "      <td>6</td>\n",
       "      <td>5</td>\n",
       "      <td>1960</td>\n",
       "      <td>1960</td>\n",
       "      <td>112.0</td>\n",
       "      <td>639.0</td>\n",
       "      <td>0.0</td>\n",
       "      <td>...</td>\n",
       "      <td>210</td>\n",
       "      <td>62</td>\n",
       "      <td>0</td>\n",
       "      <td>0</td>\n",
       "      <td>0</td>\n",
       "      <td>0</td>\n",
       "      <td>0</td>\n",
       "      <td>5</td>\n",
       "      <td>2010</td>\n",
       "      <td>215000</td>\n",
       "    </tr>\n",
       "    <tr>\n",
       "      <th>1</th>\n",
       "      <td>1</td>\n",
       "      <td>80.0</td>\n",
       "      <td>11622</td>\n",
       "      <td>5</td>\n",
       "      <td>6</td>\n",
       "      <td>1961</td>\n",
       "      <td>1961</td>\n",
       "      <td>0.0</td>\n",
       "      <td>468.0</td>\n",
       "      <td>144.0</td>\n",
       "      <td>...</td>\n",
       "      <td>140</td>\n",
       "      <td>0</td>\n",
       "      <td>0</td>\n",
       "      <td>0</td>\n",
       "      <td>120</td>\n",
       "      <td>0</td>\n",
       "      <td>0</td>\n",
       "      <td>6</td>\n",
       "      <td>2010</td>\n",
       "      <td>105000</td>\n",
       "    </tr>\n",
       "    <tr>\n",
       "      <th>2</th>\n",
       "      <td>2</td>\n",
       "      <td>81.0</td>\n",
       "      <td>14267</td>\n",
       "      <td>6</td>\n",
       "      <td>6</td>\n",
       "      <td>1958</td>\n",
       "      <td>1958</td>\n",
       "      <td>108.0</td>\n",
       "      <td>923.0</td>\n",
       "      <td>0.0</td>\n",
       "      <td>...</td>\n",
       "      <td>393</td>\n",
       "      <td>36</td>\n",
       "      <td>0</td>\n",
       "      <td>0</td>\n",
       "      <td>0</td>\n",
       "      <td>0</td>\n",
       "      <td>12500</td>\n",
       "      <td>6</td>\n",
       "      <td>2010</td>\n",
       "      <td>172000</td>\n",
       "    </tr>\n",
       "    <tr>\n",
       "      <th>3</th>\n",
       "      <td>3</td>\n",
       "      <td>93.0</td>\n",
       "      <td>11160</td>\n",
       "      <td>7</td>\n",
       "      <td>5</td>\n",
       "      <td>1968</td>\n",
       "      <td>1968</td>\n",
       "      <td>0.0</td>\n",
       "      <td>1065.0</td>\n",
       "      <td>0.0</td>\n",
       "      <td>...</td>\n",
       "      <td>0</td>\n",
       "      <td>0</td>\n",
       "      <td>0</td>\n",
       "      <td>0</td>\n",
       "      <td>0</td>\n",
       "      <td>0</td>\n",
       "      <td>0</td>\n",
       "      <td>4</td>\n",
       "      <td>2010</td>\n",
       "      <td>244000</td>\n",
       "    </tr>\n",
       "    <tr>\n",
       "      <th>4</th>\n",
       "      <td>4</td>\n",
       "      <td>74.0</td>\n",
       "      <td>13830</td>\n",
       "      <td>5</td>\n",
       "      <td>5</td>\n",
       "      <td>1997</td>\n",
       "      <td>1998</td>\n",
       "      <td>0.0</td>\n",
       "      <td>791.0</td>\n",
       "      <td>0.0</td>\n",
       "      <td>...</td>\n",
       "      <td>212</td>\n",
       "      <td>34</td>\n",
       "      <td>0</td>\n",
       "      <td>0</td>\n",
       "      <td>0</td>\n",
       "      <td>0</td>\n",
       "      <td>0</td>\n",
       "      <td>3</td>\n",
       "      <td>2010</td>\n",
       "      <td>189900</td>\n",
       "    </tr>\n",
       "  </tbody>\n",
       "</table>\n",
       "<p>5 rows × 37 columns</p>\n",
       "</div>"
      ],
      "text/plain": [
       "   Unnamed: 0  Lot Frontage  Lot Area  Overall Qual  Overall Cond  Year Built  \\\n",
       "0           0         141.0     31770             6             5        1960   \n",
       "1           1          80.0     11622             5             6        1961   \n",
       "2           2          81.0     14267             6             6        1958   \n",
       "3           3          93.0     11160             7             5        1968   \n",
       "4           4          74.0     13830             5             5        1997   \n",
       "\n",
       "   Year Remod/Add  Mas Vnr Area  BsmtFin SF 1  BsmtFin SF 2  ...  \\\n",
       "0            1960         112.0         639.0           0.0  ...   \n",
       "1            1961           0.0         468.0         144.0  ...   \n",
       "2            1958         108.0         923.0           0.0  ...   \n",
       "3            1968           0.0        1065.0           0.0  ...   \n",
       "4            1998           0.0         791.0           0.0  ...   \n",
       "\n",
       "   Wood Deck SF  Open Porch SF  Enclosed Porch  3Ssn Porch  Screen Porch  \\\n",
       "0           210             62               0           0             0   \n",
       "1           140              0               0           0           120   \n",
       "2           393             36               0           0             0   \n",
       "3             0              0               0           0             0   \n",
       "4           212             34               0           0             0   \n",
       "\n",
       "   Pool Area  Misc Val  Mo Sold  Yr Sold  SalePrice  \n",
       "0          0         0        5     2010     215000  \n",
       "1          0         0        6     2010     105000  \n",
       "2          0     12500        6     2010     172000  \n",
       "3          0         0        4     2010     244000  \n",
       "4          0         0        3     2010     189900  \n",
       "\n",
       "[5 rows x 37 columns]"
      ]
     },
     "execution_count": 94,
     "metadata": {},
     "output_type": "execute_result"
    }
   ],
   "source": [
    "my_numeric_df = df1.select_dtypes(exclude='object')\n",
    "my_numeric_df.head()"
   ]
  },
  {
   "cell_type": "code",
   "execution_count": 95,
   "id": "1ab2b642",
   "metadata": {},
   "outputs": [],
   "source": [
    "df_objects_dummies = pd.get_dummies(my_object_df,drop_first=True)"
   ]
  },
  {
   "cell_type": "code",
   "execution_count": 96,
   "id": "55ca9784",
   "metadata": {},
   "outputs": [
    {
     "data": {
      "text/html": [
       "<div>\n",
       "<style scoped>\n",
       "    .dataframe tbody tr th:only-of-type {\n",
       "        vertical-align: middle;\n",
       "    }\n",
       "\n",
       "    .dataframe tbody tr th {\n",
       "        vertical-align: top;\n",
       "    }\n",
       "\n",
       "    .dataframe thead th {\n",
       "        text-align: right;\n",
       "    }\n",
       "</style>\n",
       "<table border=\"1\" class=\"dataframe\">\n",
       "  <thead>\n",
       "    <tr style=\"text-align: right;\">\n",
       "      <th></th>\n",
       "      <th>MS SubClass_150</th>\n",
       "      <th>MS SubClass_160</th>\n",
       "      <th>MS SubClass_180</th>\n",
       "      <th>MS SubClass_190</th>\n",
       "      <th>MS SubClass_20</th>\n",
       "      <th>MS SubClass_30</th>\n",
       "      <th>MS SubClass_40</th>\n",
       "      <th>MS SubClass_45</th>\n",
       "      <th>MS SubClass_50</th>\n",
       "      <th>MS SubClass_60</th>\n",
       "      <th>...</th>\n",
       "      <th>Sale Type_ConLw</th>\n",
       "      <th>Sale Type_New</th>\n",
       "      <th>Sale Type_Oth</th>\n",
       "      <th>Sale Type_VWD</th>\n",
       "      <th>Sale Type_WD</th>\n",
       "      <th>Sale Condition_AdjLand</th>\n",
       "      <th>Sale Condition_Alloca</th>\n",
       "      <th>Sale Condition_Family</th>\n",
       "      <th>Sale Condition_Normal</th>\n",
       "      <th>Sale Condition_Partial</th>\n",
       "    </tr>\n",
       "  </thead>\n",
       "  <tbody>\n",
       "    <tr>\n",
       "      <th>0</th>\n",
       "      <td>0</td>\n",
       "      <td>0</td>\n",
       "      <td>0</td>\n",
       "      <td>0</td>\n",
       "      <td>1</td>\n",
       "      <td>0</td>\n",
       "      <td>0</td>\n",
       "      <td>0</td>\n",
       "      <td>0</td>\n",
       "      <td>0</td>\n",
       "      <td>...</td>\n",
       "      <td>0</td>\n",
       "      <td>0</td>\n",
       "      <td>0</td>\n",
       "      <td>0</td>\n",
       "      <td>1</td>\n",
       "      <td>0</td>\n",
       "      <td>0</td>\n",
       "      <td>0</td>\n",
       "      <td>1</td>\n",
       "      <td>0</td>\n",
       "    </tr>\n",
       "    <tr>\n",
       "      <th>1</th>\n",
       "      <td>0</td>\n",
       "      <td>0</td>\n",
       "      <td>0</td>\n",
       "      <td>0</td>\n",
       "      <td>1</td>\n",
       "      <td>0</td>\n",
       "      <td>0</td>\n",
       "      <td>0</td>\n",
       "      <td>0</td>\n",
       "      <td>0</td>\n",
       "      <td>...</td>\n",
       "      <td>0</td>\n",
       "      <td>0</td>\n",
       "      <td>0</td>\n",
       "      <td>0</td>\n",
       "      <td>1</td>\n",
       "      <td>0</td>\n",
       "      <td>0</td>\n",
       "      <td>0</td>\n",
       "      <td>1</td>\n",
       "      <td>0</td>\n",
       "    </tr>\n",
       "    <tr>\n",
       "      <th>2</th>\n",
       "      <td>0</td>\n",
       "      <td>0</td>\n",
       "      <td>0</td>\n",
       "      <td>0</td>\n",
       "      <td>1</td>\n",
       "      <td>0</td>\n",
       "      <td>0</td>\n",
       "      <td>0</td>\n",
       "      <td>0</td>\n",
       "      <td>0</td>\n",
       "      <td>...</td>\n",
       "      <td>0</td>\n",
       "      <td>0</td>\n",
       "      <td>0</td>\n",
       "      <td>0</td>\n",
       "      <td>1</td>\n",
       "      <td>0</td>\n",
       "      <td>0</td>\n",
       "      <td>0</td>\n",
       "      <td>1</td>\n",
       "      <td>0</td>\n",
       "    </tr>\n",
       "    <tr>\n",
       "      <th>3</th>\n",
       "      <td>0</td>\n",
       "      <td>0</td>\n",
       "      <td>0</td>\n",
       "      <td>0</td>\n",
       "      <td>1</td>\n",
       "      <td>0</td>\n",
       "      <td>0</td>\n",
       "      <td>0</td>\n",
       "      <td>0</td>\n",
       "      <td>0</td>\n",
       "      <td>...</td>\n",
       "      <td>0</td>\n",
       "      <td>0</td>\n",
       "      <td>0</td>\n",
       "      <td>0</td>\n",
       "      <td>1</td>\n",
       "      <td>0</td>\n",
       "      <td>0</td>\n",
       "      <td>0</td>\n",
       "      <td>1</td>\n",
       "      <td>0</td>\n",
       "    </tr>\n",
       "    <tr>\n",
       "      <th>4</th>\n",
       "      <td>0</td>\n",
       "      <td>0</td>\n",
       "      <td>0</td>\n",
       "      <td>0</td>\n",
       "      <td>0</td>\n",
       "      <td>0</td>\n",
       "      <td>0</td>\n",
       "      <td>0</td>\n",
       "      <td>0</td>\n",
       "      <td>1</td>\n",
       "      <td>...</td>\n",
       "      <td>0</td>\n",
       "      <td>0</td>\n",
       "      <td>0</td>\n",
       "      <td>0</td>\n",
       "      <td>1</td>\n",
       "      <td>0</td>\n",
       "      <td>0</td>\n",
       "      <td>0</td>\n",
       "      <td>1</td>\n",
       "      <td>0</td>\n",
       "    </tr>\n",
       "  </tbody>\n",
       "</table>\n",
       "<p>5 rows × 238 columns</p>\n",
       "</div>"
      ],
      "text/plain": [
       "   MS SubClass_150  MS SubClass_160  MS SubClass_180  MS SubClass_190  \\\n",
       "0                0                0                0                0   \n",
       "1                0                0                0                0   \n",
       "2                0                0                0                0   \n",
       "3                0                0                0                0   \n",
       "4                0                0                0                0   \n",
       "\n",
       "   MS SubClass_20  MS SubClass_30  MS SubClass_40  MS SubClass_45  \\\n",
       "0               1               0               0               0   \n",
       "1               1               0               0               0   \n",
       "2               1               0               0               0   \n",
       "3               1               0               0               0   \n",
       "4               0               0               0               0   \n",
       "\n",
       "   MS SubClass_50  MS SubClass_60  ...  Sale Type_ConLw  Sale Type_New  \\\n",
       "0               0               0  ...                0              0   \n",
       "1               0               0  ...                0              0   \n",
       "2               0               0  ...                0              0   \n",
       "3               0               0  ...                0              0   \n",
       "4               0               1  ...                0              0   \n",
       "\n",
       "   Sale Type_Oth  Sale Type_VWD  Sale Type_WD   Sale Condition_AdjLand  \\\n",
       "0              0              0              1                       0   \n",
       "1              0              0              1                       0   \n",
       "2              0              0              1                       0   \n",
       "3              0              0              1                       0   \n",
       "4              0              0              1                       0   \n",
       "\n",
       "   Sale Condition_Alloca  Sale Condition_Family  Sale Condition_Normal  \\\n",
       "0                      0                      0                      1   \n",
       "1                      0                      0                      1   \n",
       "2                      0                      0                      1   \n",
       "3                      0                      0                      1   \n",
       "4                      0                      0                      1   \n",
       "\n",
       "   Sale Condition_Partial  \n",
       "0                       0  \n",
       "1                       0  \n",
       "2                       0  \n",
       "3                       0  \n",
       "4                       0  \n",
       "\n",
       "[5 rows x 238 columns]"
      ]
     },
     "execution_count": 96,
     "metadata": {},
     "output_type": "execute_result"
    }
   ],
   "source": [
    "df_objects_dummies.head()"
   ]
  },
  {
   "cell_type": "code",
   "execution_count": 97,
   "id": "8fd724cb",
   "metadata": {},
   "outputs": [],
   "source": [
    "\n",
    "final_df = pd.concat([my_numeric_df,df_objects_dummies], axis=1)"
   ]
  },
  {
   "cell_type": "code",
   "execution_count": 98,
   "id": "deb380a1",
   "metadata": {},
   "outputs": [
    {
     "data": {
      "text/html": [
       "<div>\n",
       "<style scoped>\n",
       "    .dataframe tbody tr th:only-of-type {\n",
       "        vertical-align: middle;\n",
       "    }\n",
       "\n",
       "    .dataframe tbody tr th {\n",
       "        vertical-align: top;\n",
       "    }\n",
       "\n",
       "    .dataframe thead th {\n",
       "        text-align: right;\n",
       "    }\n",
       "</style>\n",
       "<table border=\"1\" class=\"dataframe\">\n",
       "  <thead>\n",
       "    <tr style=\"text-align: right;\">\n",
       "      <th></th>\n",
       "      <th>Unnamed: 0</th>\n",
       "      <th>Lot Frontage</th>\n",
       "      <th>Lot Area</th>\n",
       "      <th>Overall Qual</th>\n",
       "      <th>Overall Cond</th>\n",
       "      <th>Year Built</th>\n",
       "      <th>Year Remod/Add</th>\n",
       "      <th>Mas Vnr Area</th>\n",
       "      <th>BsmtFin SF 1</th>\n",
       "      <th>BsmtFin SF 2</th>\n",
       "      <th>...</th>\n",
       "      <th>Sale Type_ConLw</th>\n",
       "      <th>Sale Type_New</th>\n",
       "      <th>Sale Type_Oth</th>\n",
       "      <th>Sale Type_VWD</th>\n",
       "      <th>Sale Type_WD</th>\n",
       "      <th>Sale Condition_AdjLand</th>\n",
       "      <th>Sale Condition_Alloca</th>\n",
       "      <th>Sale Condition_Family</th>\n",
       "      <th>Sale Condition_Normal</th>\n",
       "      <th>Sale Condition_Partial</th>\n",
       "    </tr>\n",
       "  </thead>\n",
       "  <tbody>\n",
       "    <tr>\n",
       "      <th>0</th>\n",
       "      <td>0</td>\n",
       "      <td>141.0</td>\n",
       "      <td>31770</td>\n",
       "      <td>6</td>\n",
       "      <td>5</td>\n",
       "      <td>1960</td>\n",
       "      <td>1960</td>\n",
       "      <td>112.0</td>\n",
       "      <td>639.0</td>\n",
       "      <td>0.0</td>\n",
       "      <td>...</td>\n",
       "      <td>0</td>\n",
       "      <td>0</td>\n",
       "      <td>0</td>\n",
       "      <td>0</td>\n",
       "      <td>1</td>\n",
       "      <td>0</td>\n",
       "      <td>0</td>\n",
       "      <td>0</td>\n",
       "      <td>1</td>\n",
       "      <td>0</td>\n",
       "    </tr>\n",
       "    <tr>\n",
       "      <th>1</th>\n",
       "      <td>1</td>\n",
       "      <td>80.0</td>\n",
       "      <td>11622</td>\n",
       "      <td>5</td>\n",
       "      <td>6</td>\n",
       "      <td>1961</td>\n",
       "      <td>1961</td>\n",
       "      <td>0.0</td>\n",
       "      <td>468.0</td>\n",
       "      <td>144.0</td>\n",
       "      <td>...</td>\n",
       "      <td>0</td>\n",
       "      <td>0</td>\n",
       "      <td>0</td>\n",
       "      <td>0</td>\n",
       "      <td>1</td>\n",
       "      <td>0</td>\n",
       "      <td>0</td>\n",
       "      <td>0</td>\n",
       "      <td>1</td>\n",
       "      <td>0</td>\n",
       "    </tr>\n",
       "    <tr>\n",
       "      <th>2</th>\n",
       "      <td>2</td>\n",
       "      <td>81.0</td>\n",
       "      <td>14267</td>\n",
       "      <td>6</td>\n",
       "      <td>6</td>\n",
       "      <td>1958</td>\n",
       "      <td>1958</td>\n",
       "      <td>108.0</td>\n",
       "      <td>923.0</td>\n",
       "      <td>0.0</td>\n",
       "      <td>...</td>\n",
       "      <td>0</td>\n",
       "      <td>0</td>\n",
       "      <td>0</td>\n",
       "      <td>0</td>\n",
       "      <td>1</td>\n",
       "      <td>0</td>\n",
       "      <td>0</td>\n",
       "      <td>0</td>\n",
       "      <td>1</td>\n",
       "      <td>0</td>\n",
       "    </tr>\n",
       "    <tr>\n",
       "      <th>3</th>\n",
       "      <td>3</td>\n",
       "      <td>93.0</td>\n",
       "      <td>11160</td>\n",
       "      <td>7</td>\n",
       "      <td>5</td>\n",
       "      <td>1968</td>\n",
       "      <td>1968</td>\n",
       "      <td>0.0</td>\n",
       "      <td>1065.0</td>\n",
       "      <td>0.0</td>\n",
       "      <td>...</td>\n",
       "      <td>0</td>\n",
       "      <td>0</td>\n",
       "      <td>0</td>\n",
       "      <td>0</td>\n",
       "      <td>1</td>\n",
       "      <td>0</td>\n",
       "      <td>0</td>\n",
       "      <td>0</td>\n",
       "      <td>1</td>\n",
       "      <td>0</td>\n",
       "    </tr>\n",
       "    <tr>\n",
       "      <th>4</th>\n",
       "      <td>4</td>\n",
       "      <td>74.0</td>\n",
       "      <td>13830</td>\n",
       "      <td>5</td>\n",
       "      <td>5</td>\n",
       "      <td>1997</td>\n",
       "      <td>1998</td>\n",
       "      <td>0.0</td>\n",
       "      <td>791.0</td>\n",
       "      <td>0.0</td>\n",
       "      <td>...</td>\n",
       "      <td>0</td>\n",
       "      <td>0</td>\n",
       "      <td>0</td>\n",
       "      <td>0</td>\n",
       "      <td>1</td>\n",
       "      <td>0</td>\n",
       "      <td>0</td>\n",
       "      <td>0</td>\n",
       "      <td>1</td>\n",
       "      <td>0</td>\n",
       "    </tr>\n",
       "  </tbody>\n",
       "</table>\n",
       "<p>5 rows × 275 columns</p>\n",
       "</div>"
      ],
      "text/plain": [
       "   Unnamed: 0  Lot Frontage  Lot Area  Overall Qual  Overall Cond  Year Built  \\\n",
       "0           0         141.0     31770             6             5        1960   \n",
       "1           1          80.0     11622             5             6        1961   \n",
       "2           2          81.0     14267             6             6        1958   \n",
       "3           3          93.0     11160             7             5        1968   \n",
       "4           4          74.0     13830             5             5        1997   \n",
       "\n",
       "   Year Remod/Add  Mas Vnr Area  BsmtFin SF 1  BsmtFin SF 2  ...  \\\n",
       "0            1960         112.0         639.0           0.0  ...   \n",
       "1            1961           0.0         468.0         144.0  ...   \n",
       "2            1958         108.0         923.0           0.0  ...   \n",
       "3            1968           0.0        1065.0           0.0  ...   \n",
       "4            1998           0.0         791.0           0.0  ...   \n",
       "\n",
       "   Sale Type_ConLw  Sale Type_New  Sale Type_Oth  Sale Type_VWD  \\\n",
       "0                0              0              0              0   \n",
       "1                0              0              0              0   \n",
       "2                0              0              0              0   \n",
       "3                0              0              0              0   \n",
       "4                0              0              0              0   \n",
       "\n",
       "   Sale Type_WD   Sale Condition_AdjLand  Sale Condition_Alloca  \\\n",
       "0              1                       0                      0   \n",
       "1              1                       0                      0   \n",
       "2              1                       0                      0   \n",
       "3              1                       0                      0   \n",
       "4              1                       0                      0   \n",
       "\n",
       "   Sale Condition_Family  Sale Condition_Normal  Sale Condition_Partial  \n",
       "0                      0                      1                       0  \n",
       "1                      0                      1                       0  \n",
       "2                      0                      1                       0  \n",
       "3                      0                      1                       0  \n",
       "4                      0                      1                       0  \n",
       "\n",
       "[5 rows x 275 columns]"
      ]
     },
     "execution_count": 98,
     "metadata": {},
     "output_type": "execute_result"
    }
   ],
   "source": [
    "final_df.head()"
   ]
  },
  {
   "cell_type": "markdown",
   "id": "722bbea0",
   "metadata": {},
   "source": [
    "final_df is after concatenating the numerical columns and object encoding  -- this is used for further analysis    \n",
    "i.e. finding $\\beta$ of the features.   \n",
    "they have 275 columns -- in reality we will remove lot of features which don't have significant $\\beta$ coeff   \n",
    "and with multicollinear features."
   ]
  },
  {
   "cell_type": "markdown",
   "id": "228b2451",
   "metadata": {},
   "source": [
    "<h3> Summary </h3>"
   ]
  },
  {
   "cell_type": "markdown",
   "id": "306e9261",
   "metadata": {},
   "source": [
    "Feature Engineering   \n",
    "3 general approaches:\n",
    "<ol>\n",
    "  <li>Extracting information</li>\n",
    "  <li>Combining information</li>\n",
    "  <li>Transforming  information</li>\n",
    "</ol>\n"
   ]
  },
  {
   "cell_type": "markdown",
   "id": "9acbb105",
   "metadata": {},
   "source": [
    "**Steps**\n",
    "<ol>\n",
    "  <li>Read Data</li>\n",
    "  <li>Identify y variable</li>\n",
    "  <li>Correlation</li>\n",
    "  <li>Look for outliers, remove them</li>\n",
    "  <li>Missing data - >90%, <10%, in between </li>\n",
    "  <li>Missing data (>90%) - remove the columns</li>\n",
    "    <li>Missing data - <10%, remove the empty rows or fill </li>\n",
    "        <li>Missing data - in between, fill appropriately </li>\n",
    "    <li>Handle cateforical as well woth dummy variables encoding</li>\n",
    "    <li>Domain Knowledge very important to handle missing values</li>\n",
    "    \n",
    "</ol>"
   ]
  },
  {
   "cell_type": "markdown",
   "id": "ef244715",
   "metadata": {},
   "source": [
    "------------"
   ]
  }
 ],
 "metadata": {
  "kernelspec": {
   "display_name": "Python 3 (ipykernel)",
   "language": "python",
   "name": "python3"
  },
  "language_info": {
   "codemirror_mode": {
    "name": "ipython",
    "version": 3
   },
   "file_extension": ".py",
   "mimetype": "text/x-python",
   "name": "python",
   "nbconvert_exporter": "python",
   "pygments_lexer": "ipython3",
   "version": "3.9.7"
  }
 },
 "nbformat": 4,
 "nbformat_minor": 5
}
